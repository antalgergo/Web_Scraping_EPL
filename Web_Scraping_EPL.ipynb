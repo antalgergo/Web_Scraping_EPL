{
 "cells": [
  {
   "cell_type": "markdown",
   "id": "aa7c9d31-0619-41ec-984d-d669ed36f01a",
   "metadata": {},
   "source": [
    "# Portfolio Project - Web Scraping Football Matches From The EPL in Python"
   ]
  },
  {
   "cell_type": "markdown",
   "id": "94f5e2fa-6817-412b-9ba0-ee040ec79499",
   "metadata": {},
   "source": [
    "### Introduction"
   ]
  },
  {
   "cell_type": "markdown",
   "id": "e9bc7027-3bc3-46aa-a968-5fbe7f32501d",
   "metadata": {},
   "source": [
    "This project is a first part of a Machine Learning project where I will predict the winner of each football match on the English Premier League (EPL).\n",
    "In this project the main goal is gathering data for a cleaned pandas dataframe via web scraping."
   ]
  },
  {
   "cell_type": "markdown",
   "id": "7149d580-4834-41d8-9ab8-014075a67d81",
   "metadata": {},
   "source": [
    "### Downloading and Exploring the EPL Stats Page"
   ]
  },
  {
   "cell_type": "code",
   "execution_count": 45,
   "id": "c19dd87b-3155-4873-9e38-971ec9feda91",
   "metadata": {},
   "outputs": [],
   "source": [
    "import requests"
   ]
  },
  {
   "cell_type": "code",
   "execution_count": 46,
   "id": "a7291be4-acfd-4771-bdb2-a1640047a331",
   "metadata": {},
   "outputs": [],
   "source": [
    "url = \"https://fbref.com/en/comps/9/2021-2022/2021-2022-Premier-League-Stats\""
   ]
  },
  {
   "cell_type": "code",
   "execution_count": 47,
   "id": "aca0e230-0e7a-42d8-8c55-4ea59b54eec7",
   "metadata": {},
   "outputs": [],
   "source": [
    "domain = \"https://fbref.com\""
   ]
  },
  {
   "cell_type": "code",
   "execution_count": 48,
   "id": "97c96612-b3aa-424c-9686-3aa4da179127",
   "metadata": {},
   "outputs": [],
   "source": [
    "page = requests.get(url)"
   ]
  },
  {
   "cell_type": "code",
   "execution_count": 49,
   "id": "4b90b3aa-c73e-42c7-bf80-94bbffa96d4c",
   "metadata": {},
   "outputs": [
    {
     "data": {
      "text/plain": [
       "429"
      ]
     },
     "execution_count": 49,
     "metadata": {},
     "output_type": "execute_result"
    }
   ],
   "source": [
    "page.status_code # if the code is 200 then OK"
   ]
  },
  {
   "cell_type": "code",
   "execution_count": 50,
   "id": "4cecf3f1-db33-479d-850f-e1be6308abbb",
   "metadata": {},
   "outputs": [
    {
     "data": {
      "text/plain": [
       "{'Date': 'Wed, 16 Oct 2024 19:20:02 GMT', 'Content-Type': 'text/html; charset=UTF-8', 'Content-Length': '109731', 'Connection': 'keep-alive', 'Retry-After': '3585', 'X-Frame-Options': 'SAMEORIGIN', 'Referrer-Policy': 'same-origin', 'Cache-Control': 'private, max-age=0, no-store, no-cache, must-revalidate, post-check=0, pre-check=0', 'Expires': 'Thu, 01 Jan 1970 00:00:01 GMT', 'Set-Cookie': '__cf_bm=oS.BbroWotUVuwHwpJ3U02iqnMQHTwSBAiFonQdUHU0-1729106402-1.0.1.1-0GsmPbSUO8ofIyFScRenHfDLFYYejjfKL_7lN4vOqOgd3s.mQ3h347eVhp38NiQYj2fKEPBia24U62hVVhR3Jg; path=/; expires=Wed, 16-Oct-24 19:50:02 GMT; domain=.fbref.com; HttpOnly; Secure; SameSite=None', 'Vary': 'Accept-Encoding', 'Server': 'cloudflare', 'CF-RAY': '8d3a676969545adc-VIE'}"
      ]
     },
     "execution_count": 50,
     "metadata": {},
     "output_type": "execute_result"
    }
   ],
   "source": [
    "page.headers"
   ]
  },
  {
   "cell_type": "markdown",
   "id": "84d9e672-75be-41c7-9975-ce1073209b1c",
   "metadata": {},
   "source": [
    "Inspecting the page in web browser I can see the `id` of the table-tag which contains the teams and theirs results is `results2021-202291_overall`. Furthermore the HTML Tag which contains the Team name and their URL to details is `team`."
   ]
  },
  {
   "cell_type": "markdown",
   "id": "c9a0cec6-77e8-4462-912f-f11d6c3d2ac2",
   "metadata": {},
   "source": [
    "### Parsing HTML Links"
   ]
  },
  {
   "cell_type": "code",
   "execution_count": 7,
   "id": "95ad9893-d2b7-4486-b2ce-896179c5f22d",
   "metadata": {},
   "outputs": [],
   "source": [
    "from bs4 import BeautifulSoup"
   ]
  },
  {
   "cell_type": "code",
   "execution_count": 8,
   "id": "b581ec2a-e305-4670-b10a-efd81123f20e",
   "metadata": {},
   "outputs": [],
   "source": [
    "soup = BeautifulSoup(page.content, \"html.parser\")"
   ]
  },
  {
   "cell_type": "code",
   "execution_count": 9,
   "id": "cdd2e103-c84d-4879-90de-584dc06f53fb",
   "metadata": {},
   "outputs": [],
   "source": [
    "teams_table = soup.find(\"table\", id=\"results2021-202291_overall\")"
   ]
  },
  {
   "cell_type": "code",
   "execution_count": 10,
   "id": "3f31912a-933a-44a5-9516-1d00503fcf41",
   "metadata": {},
   "outputs": [],
   "source": [
    "links = teams_table.find_all(\"a\")"
   ]
  },
  {
   "cell_type": "code",
   "execution_count": 11,
   "id": "01fdf917-cac5-4c93-a1de-8cdae86d6951",
   "metadata": {},
   "outputs": [],
   "source": [
    "\"\"\"\n",
    "Example links:\n",
    "\n",
    "Link: /en/squads/19538871/2021-2022/Manchester-United-Stats, Text: Manchester Utd    - if contains word 'squads' then it refer to club\n",
    "Link: /en/players/dea698d9/Cristiano-Ronaldo, Text: Cristiano Ronaldo\n",
    "\"\"\"\n",
    "\n",
    "club_paths = []\n",
    "\n",
    "for link in links:\n",
    "    path = link.get(\"href\")\n",
    "    \n",
    "    if (\"squads\") in path:\n",
    "        club_paths.append(path)"
   ]
  },
  {
   "cell_type": "code",
   "execution_count": 12,
   "id": "971d8eb8-8e2c-4af9-a91f-e72144c306f7",
   "metadata": {},
   "outputs": [
    {
     "data": {
      "text/plain": [
       "['/en/squads/b8fd03ef/2021-2022/Manchester-City-Stats',\n",
       " '/en/squads/822bd0ba/2021-2022/Liverpool-Stats',\n",
       " '/en/squads/cff3d9bb/2021-2022/Chelsea-Stats',\n",
       " '/en/squads/361ca564/2021-2022/Tottenham-Hotspur-Stats',\n",
       " '/en/squads/18bb7c10/2021-2022/Arsenal-Stats',\n",
       " '/en/squads/19538871/2021-2022/Manchester-United-Stats',\n",
       " '/en/squads/7c21e445/2021-2022/West-Ham-United-Stats',\n",
       " '/en/squads/a2d435b3/2021-2022/Leicester-City-Stats',\n",
       " '/en/squads/d07537b9/2021-2022/Brighton-and-Hove-Albion-Stats',\n",
       " '/en/squads/8cec06e1/2021-2022/Wolverhampton-Wanderers-Stats',\n",
       " '/en/squads/b2b47a98/2021-2022/Newcastle-United-Stats',\n",
       " '/en/squads/47c64c55/2021-2022/Crystal-Palace-Stats',\n",
       " '/en/squads/cd051869/2021-2022/Brentford-Stats',\n",
       " '/en/squads/8602292d/2021-2022/Aston-Villa-Stats',\n",
       " '/en/squads/33c895d4/2021-2022/Southampton-Stats',\n",
       " '/en/squads/d3fd31cc/2021-2022/Everton-Stats',\n",
       " '/en/squads/5bfb9659/2021-2022/Leeds-United-Stats',\n",
       " '/en/squads/943e8050/2021-2022/Burnley-Stats',\n",
       " '/en/squads/2abfe087/2021-2022/Watford-Stats',\n",
       " '/en/squads/1c781004/2021-2022/Norwich-City-Stats']"
      ]
     },
     "execution_count": 12,
     "metadata": {},
     "output_type": "execute_result"
    }
   ],
   "source": [
    "club_paths"
   ]
  },
  {
   "cell_type": "code",
   "execution_count": 13,
   "id": "83456084-4d53-4817-9296-aa20a49dd609",
   "metadata": {},
   "outputs": [],
   "source": [
    "club_urls = [domain + path for path in club_paths] # creating a list of full URLs (domain url + paths of each club)"
   ]
  },
  {
   "cell_type": "code",
   "execution_count": 14,
   "id": "fc5e08b6-e601-4083-a31d-25881cf5e005",
   "metadata": {},
   "outputs": [
    {
     "data": {
      "text/plain": [
       "['https://fbref.com/en/squads/b8fd03ef/2021-2022/Manchester-City-Stats',\n",
       " 'https://fbref.com/en/squads/822bd0ba/2021-2022/Liverpool-Stats',\n",
       " 'https://fbref.com/en/squads/cff3d9bb/2021-2022/Chelsea-Stats',\n",
       " 'https://fbref.com/en/squads/361ca564/2021-2022/Tottenham-Hotspur-Stats',\n",
       " 'https://fbref.com/en/squads/18bb7c10/2021-2022/Arsenal-Stats',\n",
       " 'https://fbref.com/en/squads/19538871/2021-2022/Manchester-United-Stats',\n",
       " 'https://fbref.com/en/squads/7c21e445/2021-2022/West-Ham-United-Stats',\n",
       " 'https://fbref.com/en/squads/a2d435b3/2021-2022/Leicester-City-Stats',\n",
       " 'https://fbref.com/en/squads/d07537b9/2021-2022/Brighton-and-Hove-Albion-Stats',\n",
       " 'https://fbref.com/en/squads/8cec06e1/2021-2022/Wolverhampton-Wanderers-Stats',\n",
       " 'https://fbref.com/en/squads/b2b47a98/2021-2022/Newcastle-United-Stats',\n",
       " 'https://fbref.com/en/squads/47c64c55/2021-2022/Crystal-Palace-Stats',\n",
       " 'https://fbref.com/en/squads/cd051869/2021-2022/Brentford-Stats',\n",
       " 'https://fbref.com/en/squads/8602292d/2021-2022/Aston-Villa-Stats',\n",
       " 'https://fbref.com/en/squads/33c895d4/2021-2022/Southampton-Stats',\n",
       " 'https://fbref.com/en/squads/d3fd31cc/2021-2022/Everton-Stats',\n",
       " 'https://fbref.com/en/squads/5bfb9659/2021-2022/Leeds-United-Stats',\n",
       " 'https://fbref.com/en/squads/943e8050/2021-2022/Burnley-Stats',\n",
       " 'https://fbref.com/en/squads/2abfe087/2021-2022/Watford-Stats',\n",
       " 'https://fbref.com/en/squads/1c781004/2021-2022/Norwich-City-Stats']"
      ]
     },
     "execution_count": 14,
     "metadata": {},
     "output_type": "execute_result"
    }
   ],
   "source": [
    "club_urls"
   ]
  },
  {
   "cell_type": "markdown",
   "id": "ad02b04d-3592-45b1-a626-bd68985259af",
   "metadata": {},
   "source": [
    "### Extracting Match Stats"
   ]
  },
  {
   "cell_type": "code",
   "execution_count": 15,
   "id": "b8ad23b1-116f-4284-b7f1-92c1e4aa52b4",
   "metadata": {},
   "outputs": [],
   "source": [
    "page = requests.get(club_urls[5]) # Get the stats of Manchester United ( My favourite club :) )"
   ]
  },
  {
   "cell_type": "code",
   "execution_count": 16,
   "id": "a08e85fe-db07-40d5-89a5-62be638ab22b",
   "metadata": {},
   "outputs": [
    {
     "data": {
      "text/plain": [
       "200"
      ]
     },
     "execution_count": 16,
     "metadata": {},
     "output_type": "execute_result"
    }
   ],
   "source": [
    "page.status_code"
   ]
  },
  {
   "cell_type": "code",
   "execution_count": 17,
   "id": "85df7ce4-6d70-4fe6-a81b-ec17e1bca829",
   "metadata": {},
   "outputs": [],
   "source": [
    "soup = BeautifulSoup(page.content, 'html.parser')"
   ]
  },
  {
   "cell_type": "code",
   "execution_count": 18,
   "id": "42c72f45-41c5-4ef0-a378-2bcf56bf73db",
   "metadata": {},
   "outputs": [],
   "source": [
    "mu_stats = soup.find(id=\"matchlogs_for\") # ID of table that contains the \"Scores & Fixtures\" is \"match_for_logs\""
   ]
  },
  {
   "cell_type": "code",
   "execution_count": 19,
   "id": "069c14ae-3ebe-415d-96b3-44690192b058",
   "metadata": {},
   "outputs": [],
   "source": [
    "# Extracting stats from table called \"Scores & Fixtures\" \n",
    "def extracting_stats(table):\n",
    "    \n",
    "    columns = [] # It will be the column names of the DataFrame.\n",
    "\n",
    "    for name in mu_stats.find_all(\"tr\")[0]:\n",
    "        if name.string != \" \": # It stores a space between elements. I will just ommit them.\n",
    "            columns.append(name.string)\n",
    "\n",
    "    match_stats = []\n",
    "\n",
    "    for match in mu_stats.find_all(\"tr\")[1:]: # Ommiting the header (first \"tr\" tag)\n",
    "        stats = []\n",
    "    \n",
    "        for stat in match:\n",
    "            if stat.find(\"span\"): # The time data is inner a \"span\" tag within \"td\" tag\n",
    "                stats.append(stat.find(\"span\").text)\n",
    "            else:\n",
    "                stats.append(stat.string) # else I added the value os \"td\" tag to list\n",
    "\n",
    "        match_stats.append(stats)\n",
    "\n",
    "    return columns, match_stats"
   ]
  },
  {
   "cell_type": "code",
   "execution_count": 20,
   "id": "85d0ab81-66bb-43f5-bff0-e5e47505f9b9",
   "metadata": {},
   "outputs": [],
   "source": [
    "import pandas as pd"
   ]
  },
  {
   "cell_type": "code",
   "execution_count": 21,
   "id": "b499f6d3-9233-478a-9421-969213663784",
   "metadata": {},
   "outputs": [],
   "source": [
    "columns, data = extracting_stats(mu_stats)"
   ]
  },
  {
   "cell_type": "code",
   "execution_count": 22,
   "id": "549c6d5e-42a3-47ee-a9cd-16e510c44c7c",
   "metadata": {},
   "outputs": [],
   "source": [
    "mu_table = pd.DataFrame(data=data, columns=columns)"
   ]
  },
  {
   "cell_type": "code",
   "execution_count": 23,
   "id": "1ec0f398-3fc2-4796-9cdc-6c2e13f6c67c",
   "metadata": {},
   "outputs": [
    {
     "data": {
      "text/html": [
       "<div>\n",
       "<style scoped>\n",
       "    .dataframe tbody tr th:only-of-type {\n",
       "        vertical-align: middle;\n",
       "    }\n",
       "\n",
       "    .dataframe tbody tr th {\n",
       "        vertical-align: top;\n",
       "    }\n",
       "\n",
       "    .dataframe thead th {\n",
       "        text-align: right;\n",
       "    }\n",
       "</style>\n",
       "<table border=\"1\" class=\"dataframe\">\n",
       "  <thead>\n",
       "    <tr style=\"text-align: right;\">\n",
       "      <th></th>\n",
       "      <th>Date</th>\n",
       "      <th>Time</th>\n",
       "      <th>Comp</th>\n",
       "      <th>Round</th>\n",
       "      <th>Day</th>\n",
       "      <th>Venue</th>\n",
       "      <th>Result</th>\n",
       "      <th>GF</th>\n",
       "      <th>GA</th>\n",
       "      <th>Opponent</th>\n",
       "      <th>xG</th>\n",
       "      <th>xGA</th>\n",
       "      <th>Poss</th>\n",
       "      <th>Attendance</th>\n",
       "      <th>Captain</th>\n",
       "      <th>Formation</th>\n",
       "      <th>Opp Formation</th>\n",
       "      <th>Referee</th>\n",
       "      <th>Match Report</th>\n",
       "      <th>Notes</th>\n",
       "    </tr>\n",
       "  </thead>\n",
       "  <tbody>\n",
       "    <tr>\n",
       "      <th>0</th>\n",
       "      <td>2021-08-14</td>\n",
       "      <td>12:30</td>\n",
       "      <td>Premier League</td>\n",
       "      <td>Matchweek 1</td>\n",
       "      <td>Sat</td>\n",
       "      <td>Home</td>\n",
       "      <td>W</td>\n",
       "      <td>5</td>\n",
       "      <td>1</td>\n",
       "      <td>Leeds United</td>\n",
       "      <td>1.5</td>\n",
       "      <td>0.5</td>\n",
       "      <td>49</td>\n",
       "      <td>72,732</td>\n",
       "      <td>Harry Maguire</td>\n",
       "      <td>4-2-3-1</td>\n",
       "      <td>4-1-4-1</td>\n",
       "      <td>Paul Tierney</td>\n",
       "      <td>Match Report</td>\n",
       "      <td>None</td>\n",
       "    </tr>\n",
       "    <tr>\n",
       "      <th>1</th>\n",
       "      <td>2021-08-22</td>\n",
       "      <td>14:00</td>\n",
       "      <td>Premier League</td>\n",
       "      <td>Matchweek 2</td>\n",
       "      <td>Sun</td>\n",
       "      <td>Away</td>\n",
       "      <td>D</td>\n",
       "      <td>1</td>\n",
       "      <td>1</td>\n",
       "      <td>Southampton</td>\n",
       "      <td>1.8</td>\n",
       "      <td>0.7</td>\n",
       "      <td>63</td>\n",
       "      <td>32,000</td>\n",
       "      <td>Harry Maguire</td>\n",
       "      <td>4-2-3-1</td>\n",
       "      <td>4-4-2</td>\n",
       "      <td>Craig Pawson</td>\n",
       "      <td>Match Report</td>\n",
       "      <td>None</td>\n",
       "    </tr>\n",
       "    <tr>\n",
       "      <th>2</th>\n",
       "      <td>2021-08-29</td>\n",
       "      <td>16:30</td>\n",
       "      <td>Premier League</td>\n",
       "      <td>Matchweek 3</td>\n",
       "      <td>Sun</td>\n",
       "      <td>Away</td>\n",
       "      <td>W</td>\n",
       "      <td>1</td>\n",
       "      <td>0</td>\n",
       "      <td>Wolves</td>\n",
       "      <td>0.6</td>\n",
       "      <td>2.1</td>\n",
       "      <td>56</td>\n",
       "      <td>30,621</td>\n",
       "      <td>Harry Maguire</td>\n",
       "      <td>4-2-3-1</td>\n",
       "      <td>3-4-3</td>\n",
       "      <td>Mike Dean</td>\n",
       "      <td>Match Report</td>\n",
       "      <td>None</td>\n",
       "    </tr>\n",
       "    <tr>\n",
       "      <th>3</th>\n",
       "      <td>2021-09-11</td>\n",
       "      <td>15:00</td>\n",
       "      <td>Premier League</td>\n",
       "      <td>Matchweek 4</td>\n",
       "      <td>Sat</td>\n",
       "      <td>Home</td>\n",
       "      <td>W</td>\n",
       "      <td>4</td>\n",
       "      <td>1</td>\n",
       "      <td>Newcastle Utd</td>\n",
       "      <td>2.5</td>\n",
       "      <td>0.4</td>\n",
       "      <td>63</td>\n",
       "      <td>72,732</td>\n",
       "      <td>Harry Maguire</td>\n",
       "      <td>4-2-3-1</td>\n",
       "      <td>5-4-1</td>\n",
       "      <td>Anthony Taylor</td>\n",
       "      <td>Match Report</td>\n",
       "      <td>None</td>\n",
       "    </tr>\n",
       "    <tr>\n",
       "      <th>4</th>\n",
       "      <td>2021-09-14</td>\n",
       "      <td>18:45</td>\n",
       "      <td>Champions Lg</td>\n",
       "      <td>Group stage</td>\n",
       "      <td>Tue</td>\n",
       "      <td>Away</td>\n",
       "      <td>L</td>\n",
       "      <td>1</td>\n",
       "      <td>2</td>\n",
       "      <td>ch</td>\n",
       "      <td>0.5</td>\n",
       "      <td>1.4</td>\n",
       "      <td>46</td>\n",
       "      <td>31,120</td>\n",
       "      <td>Harry Maguire</td>\n",
       "      <td>4-2-3-1</td>\n",
       "      <td>4-2-3-1</td>\n",
       "      <td>François Letexier</td>\n",
       "      <td>Match Report</td>\n",
       "      <td>None</td>\n",
       "    </tr>\n",
       "  </tbody>\n",
       "</table>\n",
       "</div>"
      ],
      "text/plain": [
       "         Date   Time            Comp        Round  Day Venue Result GF GA  \\\n",
       "0  2021-08-14  12:30  Premier League  Matchweek 1  Sat  Home      W  5  1   \n",
       "1  2021-08-22  14:00  Premier League  Matchweek 2  Sun  Away      D  1  1   \n",
       "2  2021-08-29  16:30  Premier League  Matchweek 3  Sun  Away      W  1  0   \n",
       "3  2021-09-11  15:00  Premier League  Matchweek 4  Sat  Home      W  4  1   \n",
       "4  2021-09-14  18:45    Champions Lg  Group stage  Tue  Away      L  1  2   \n",
       "\n",
       "        Opponent   xG  xGA Poss Attendance        Captain Formation  \\\n",
       "0   Leeds United  1.5  0.5   49     72,732  Harry Maguire   4-2-3-1   \n",
       "1    Southampton  1.8  0.7   63     32,000  Harry Maguire   4-2-3-1   \n",
       "2         Wolves  0.6  2.1   56     30,621  Harry Maguire   4-2-3-1   \n",
       "3  Newcastle Utd  2.5  0.4   63     72,732  Harry Maguire   4-2-3-1   \n",
       "4             ch  0.5  1.4   46     31,120  Harry Maguire   4-2-3-1   \n",
       "\n",
       "  Opp Formation            Referee  Match Report Notes  \n",
       "0       4-1-4-1       Paul Tierney  Match Report  None  \n",
       "1         4-4-2       Craig Pawson  Match Report  None  \n",
       "2         3-4-3          Mike Dean  Match Report  None  \n",
       "3         5-4-1     Anthony Taylor  Match Report  None  \n",
       "4       4-2-3-1  François Letexier  Match Report  None  "
      ]
     },
     "execution_count": 23,
     "metadata": {},
     "output_type": "execute_result"
    }
   ],
   "source": [
    "mu_table.head()"
   ]
  },
  {
   "cell_type": "markdown",
   "id": "324194b6-2219-4b85-8bc0-65b5d46faf19",
   "metadata": {},
   "source": [
    "### Getting Match Shooting Stats"
   ]
  },
  {
   "cell_type": "markdown",
   "id": "8ef9a4c1-3c8f-4869-a37c-2af774aa500a",
   "metadata": {},
   "source": [
    "I will gathering the another stats (such as the number of shots, the number of shots on target, the number of free kicks, and the number of penalty kicks) for Manchester United which are in another table in a Tab called `Shoots`."
   ]
  },
  {
   "cell_type": "code",
   "execution_count": 24,
   "id": "bd2a76c0-d9b6-4b4b-9ebb-96e96d5b57e4",
   "metadata": {},
   "outputs": [],
   "source": [
    "links_on_page = soup.find_all(\"a\")"
   ]
  },
  {
   "cell_type": "code",
   "execution_count": 25,
   "id": "43f563e8-5aba-4ee7-a013-16d0c3325753",
   "metadata": {},
   "outputs": [],
   "source": [
    "import re\n",
    "\n",
    "shoots_link = domain + soup.find(\"a\", href=re.compile(\"/matchlogs/all_comps/shooting/\")).get(\"href\")"
   ]
  },
  {
   "cell_type": "code",
   "execution_count": 26,
   "id": "2ff70c5a-5694-48c9-9812-30ed15151dd6",
   "metadata": {},
   "outputs": [
    {
     "data": {
      "text/plain": [
       "'https://fbref.com/en/squads/19538871/2021-2022/matchlogs/all_comps/shooting/Manchester-United-Match-Logs-All-Competitions'"
      ]
     },
     "execution_count": 26,
     "metadata": {},
     "output_type": "execute_result"
    }
   ],
   "source": [
    "shoots_link"
   ]
  },
  {
   "cell_type": "code",
   "execution_count": 27,
   "id": "b4017380-7b4b-4aa7-993f-8ec9b9d14e12",
   "metadata": {},
   "outputs": [],
   "source": [
    "page = requests.get(shoots_link)\n",
    "soup = BeautifulSoup(page.content, \"html.parser\")\n",
    "\n",
    "shoots_stat_table = soup.find(\"table\", id=\"matchlogs_for\")"
   ]
  },
  {
   "cell_type": "code",
   "execution_count": 28,
   "id": "7526ec7d-5146-4551-aea7-331fb17acc3d",
   "metadata": {
    "scrolled": true
   },
   "outputs": [],
   "source": [
    "def extracting_shooting_stats(table):\n",
    "    shooting_stats = [stat for stat in shoots_stat_table.find_all(\"tr\")]\n",
    "\n",
    "    columns = []\n",
    "\n",
    "    for column_name in shooting_stats[1].find_all(\"th\"):\n",
    "        columns.append(column_name.string)\n",
    "\n",
    "    data = []\n",
    "\n",
    "    for row in shooting_stats[2:]: # omitting header\n",
    "        event_data = [] # storing data from each row and after added to the data list that contains all of them\n",
    "    \n",
    "        for col in row:\n",
    "            if col.find(\"span\"): # the time data is inner a \"span\" tag within \"td\" tag\n",
    "                event_data.append(col.find(\"span\").text)\n",
    "            else:\n",
    "                event_data.append(col.string)\n",
    "\n",
    "        data.append(event_data)\n",
    "\n",
    "    return columns, data"
   ]
  },
  {
   "cell_type": "code",
   "execution_count": 29,
   "id": "76524dd4-0bce-49a0-ad9d-374b607184ae",
   "metadata": {
    "scrolled": true
   },
   "outputs": [],
   "source": [
    "columns, data = extracting_shooting_stats(shoots_stat_table)"
   ]
  },
  {
   "cell_type": "code",
   "execution_count": 30,
   "id": "eb714613-3ba6-49a9-bc8c-34d575c62d29",
   "metadata": {},
   "outputs": [],
   "source": [
    "shoots_table = pd.DataFrame(data=data, columns=columns)"
   ]
  },
  {
   "cell_type": "code",
   "execution_count": 31,
   "id": "56e7b010-3e68-41e4-aacb-20c4ef4a8932",
   "metadata": {},
   "outputs": [
    {
     "data": {
      "text/html": [
       "<div>\n",
       "<style scoped>\n",
       "    .dataframe tbody tr th:only-of-type {\n",
       "        vertical-align: middle;\n",
       "    }\n",
       "\n",
       "    .dataframe tbody tr th {\n",
       "        vertical-align: top;\n",
       "    }\n",
       "\n",
       "    .dataframe thead th {\n",
       "        text-align: right;\n",
       "    }\n",
       "</style>\n",
       "<table border=\"1\" class=\"dataframe\">\n",
       "  <thead>\n",
       "    <tr style=\"text-align: right;\">\n",
       "      <th></th>\n",
       "      <th>Date</th>\n",
       "      <th>Time</th>\n",
       "      <th>Comp</th>\n",
       "      <th>Round</th>\n",
       "      <th>Day</th>\n",
       "      <th>Venue</th>\n",
       "      <th>Result</th>\n",
       "      <th>GF</th>\n",
       "      <th>GA</th>\n",
       "      <th>Opponent</th>\n",
       "      <th>...</th>\n",
       "      <th>Dist</th>\n",
       "      <th>FK</th>\n",
       "      <th>PK</th>\n",
       "      <th>PKatt</th>\n",
       "      <th>xG</th>\n",
       "      <th>npxG</th>\n",
       "      <th>npxG/Sh</th>\n",
       "      <th>G-xG</th>\n",
       "      <th>np:G-xG</th>\n",
       "      <th>Match Report</th>\n",
       "    </tr>\n",
       "  </thead>\n",
       "  <tbody>\n",
       "    <tr>\n",
       "      <th>0</th>\n",
       "      <td>2021-08-14</td>\n",
       "      <td>12:30</td>\n",
       "      <td>Premier League</td>\n",
       "      <td>Matchweek 1</td>\n",
       "      <td>Sat</td>\n",
       "      <td>Home</td>\n",
       "      <td>W</td>\n",
       "      <td>5</td>\n",
       "      <td>1</td>\n",
       "      <td>Leeds United</td>\n",
       "      <td>...</td>\n",
       "      <td>18.2</td>\n",
       "      <td>0</td>\n",
       "      <td>0</td>\n",
       "      <td>0</td>\n",
       "      <td>1.5</td>\n",
       "      <td>1.5</td>\n",
       "      <td>0.09</td>\n",
       "      <td>+3.5</td>\n",
       "      <td>+3.5</td>\n",
       "      <td>Match Report</td>\n",
       "    </tr>\n",
       "    <tr>\n",
       "      <th>1</th>\n",
       "      <td>2021-08-22</td>\n",
       "      <td>14:00</td>\n",
       "      <td>Premier League</td>\n",
       "      <td>Matchweek 2</td>\n",
       "      <td>Sun</td>\n",
       "      <td>Away</td>\n",
       "      <td>D</td>\n",
       "      <td>1</td>\n",
       "      <td>1</td>\n",
       "      <td>Southampton</td>\n",
       "      <td>...</td>\n",
       "      <td>15.1</td>\n",
       "      <td>1</td>\n",
       "      <td>0</td>\n",
       "      <td>0</td>\n",
       "      <td>1.8</td>\n",
       "      <td>1.8</td>\n",
       "      <td>0.14</td>\n",
       "      <td>-0.8</td>\n",
       "      <td>-0.8</td>\n",
       "      <td>Match Report</td>\n",
       "    </tr>\n",
       "    <tr>\n",
       "      <th>2</th>\n",
       "      <td>2021-08-29</td>\n",
       "      <td>16:30</td>\n",
       "      <td>Premier League</td>\n",
       "      <td>Matchweek 3</td>\n",
       "      <td>Sun</td>\n",
       "      <td>Away</td>\n",
       "      <td>W</td>\n",
       "      <td>1</td>\n",
       "      <td>0</td>\n",
       "      <td>Wolves</td>\n",
       "      <td>...</td>\n",
       "      <td>18.8</td>\n",
       "      <td>1</td>\n",
       "      <td>0</td>\n",
       "      <td>0</td>\n",
       "      <td>0.6</td>\n",
       "      <td>0.6</td>\n",
       "      <td>0.06</td>\n",
       "      <td>+0.4</td>\n",
       "      <td>+0.4</td>\n",
       "      <td>Match Report</td>\n",
       "    </tr>\n",
       "    <tr>\n",
       "      <th>3</th>\n",
       "      <td>2021-09-11</td>\n",
       "      <td>15:00</td>\n",
       "      <td>Premier League</td>\n",
       "      <td>Matchweek 4</td>\n",
       "      <td>Sat</td>\n",
       "      <td>Home</td>\n",
       "      <td>W</td>\n",
       "      <td>4</td>\n",
       "      <td>1</td>\n",
       "      <td>Newcastle Utd</td>\n",
       "      <td>...</td>\n",
       "      <td>20.5</td>\n",
       "      <td>0</td>\n",
       "      <td>0</td>\n",
       "      <td>0</td>\n",
       "      <td>2.5</td>\n",
       "      <td>2.5</td>\n",
       "      <td>0.12</td>\n",
       "      <td>+1.5</td>\n",
       "      <td>+1.5</td>\n",
       "      <td>Match Report</td>\n",
       "    </tr>\n",
       "    <tr>\n",
       "      <th>4</th>\n",
       "      <td>2021-09-14</td>\n",
       "      <td>18:45</td>\n",
       "      <td>Champions Lg</td>\n",
       "      <td>Group stage</td>\n",
       "      <td>Tue</td>\n",
       "      <td>Away</td>\n",
       "      <td>L</td>\n",
       "      <td>1</td>\n",
       "      <td>2</td>\n",
       "      <td>ch</td>\n",
       "      <td>...</td>\n",
       "      <td>10.8</td>\n",
       "      <td>0</td>\n",
       "      <td>0</td>\n",
       "      <td>0</td>\n",
       "      <td>0.5</td>\n",
       "      <td>0.5</td>\n",
       "      <td>0.26</td>\n",
       "      <td>+0.5</td>\n",
       "      <td>+0.5</td>\n",
       "      <td>Match Report</td>\n",
       "    </tr>\n",
       "  </tbody>\n",
       "</table>\n",
       "<p>5 rows × 26 columns</p>\n",
       "</div>"
      ],
      "text/plain": [
       "         Date   Time            Comp        Round  Day Venue Result GF GA  \\\n",
       "0  2021-08-14  12:30  Premier League  Matchweek 1  Sat  Home      W  5  1   \n",
       "1  2021-08-22  14:00  Premier League  Matchweek 2  Sun  Away      D  1  1   \n",
       "2  2021-08-29  16:30  Premier League  Matchweek 3  Sun  Away      W  1  0   \n",
       "3  2021-09-11  15:00  Premier League  Matchweek 4  Sat  Home      W  4  1   \n",
       "4  2021-09-14  18:45    Champions Lg  Group stage  Tue  Away      L  1  2   \n",
       "\n",
       "        Opponent  ...  Dist FK PK PKatt   xG npxG npxG/Sh  G-xG np:G-xG  \\\n",
       "0   Leeds United  ...  18.2  0  0     0  1.5  1.5    0.09  +3.5    +3.5   \n",
       "1    Southampton  ...  15.1  1  0     0  1.8  1.8    0.14  -0.8    -0.8   \n",
       "2         Wolves  ...  18.8  1  0     0  0.6  0.6    0.06  +0.4    +0.4   \n",
       "3  Newcastle Utd  ...  20.5  0  0     0  2.5  2.5    0.12  +1.5    +1.5   \n",
       "4             ch  ...  10.8  0  0     0  0.5  0.5    0.26  +0.5    +0.5   \n",
       "\n",
       "   Match Report  \n",
       "0  Match Report  \n",
       "1  Match Report  \n",
       "2  Match Report  \n",
       "3  Match Report  \n",
       "4  Match Report  \n",
       "\n",
       "[5 rows x 26 columns]"
      ]
     },
     "execution_count": 31,
     "metadata": {},
     "output_type": "execute_result"
    }
   ],
   "source": [
    "shoots_table.head()"
   ]
  },
  {
   "cell_type": "markdown",
   "id": "9a134b6d-3932-45dd-b89b-0069641d3ce8",
   "metadata": {},
   "source": [
    "### Cleaning and Merging Scraped Data"
   ]
  },
  {
   "cell_type": "code",
   "execution_count": 32,
   "id": "ba47d3db-2ba5-418b-b258-0dd061c93139",
   "metadata": {},
   "outputs": [
    {
     "data": {
      "text/plain": [
       "(50, 26)"
      ]
     },
     "execution_count": 32,
     "metadata": {},
     "output_type": "execute_result"
    }
   ],
   "source": [
    "shoots_table.shape"
   ]
  },
  {
   "cell_type": "code",
   "execution_count": 33,
   "id": "503e8837-ff8e-492f-9800-baaf0d7ae294",
   "metadata": {},
   "outputs": [
    {
     "data": {
      "text/plain": [
       "(49, 20)"
      ]
     },
     "execution_count": 33,
     "metadata": {},
     "output_type": "execute_result"
    }
   ],
   "source": [
    "mu_table.shape"
   ]
  },
  {
   "cell_type": "code",
   "execution_count": 34,
   "id": "09216625-9bd5-4888-8fc5-36a69dfa6bee",
   "metadata": {},
   "outputs": [
    {
     "data": {
      "text/html": [
       "<div>\n",
       "<style scoped>\n",
       "    .dataframe tbody tr th:only-of-type {\n",
       "        vertical-align: middle;\n",
       "    }\n",
       "\n",
       "    .dataframe tbody tr th {\n",
       "        vertical-align: top;\n",
       "    }\n",
       "\n",
       "    .dataframe thead th {\n",
       "        text-align: right;\n",
       "    }\n",
       "</style>\n",
       "<table border=\"1\" class=\"dataframe\">\n",
       "  <thead>\n",
       "    <tr style=\"text-align: right;\">\n",
       "      <th></th>\n",
       "      <th>Date</th>\n",
       "      <th>Time</th>\n",
       "      <th>Comp</th>\n",
       "      <th>Round</th>\n",
       "      <th>Day</th>\n",
       "      <th>Venue</th>\n",
       "      <th>Result</th>\n",
       "      <th>GF</th>\n",
       "      <th>GA</th>\n",
       "      <th>Opponent</th>\n",
       "      <th>xG</th>\n",
       "      <th>xGA</th>\n",
       "      <th>Poss</th>\n",
       "      <th>Attendance</th>\n",
       "      <th>Captain</th>\n",
       "      <th>Formation</th>\n",
       "      <th>Opp Formation</th>\n",
       "      <th>Referee</th>\n",
       "      <th>Match Report</th>\n",
       "      <th>Notes</th>\n",
       "    </tr>\n",
       "  </thead>\n",
       "  <tbody>\n",
       "    <tr>\n",
       "      <th>44</th>\n",
       "      <td>2022-04-23</td>\n",
       "      <td>12:30</td>\n",
       "      <td>Premier League</td>\n",
       "      <td>Matchweek 34</td>\n",
       "      <td>Sat</td>\n",
       "      <td>Away</td>\n",
       "      <td>L</td>\n",
       "      <td>1</td>\n",
       "      <td>3</td>\n",
       "      <td>Arsenal</td>\n",
       "      <td>1.8</td>\n",
       "      <td>2.3</td>\n",
       "      <td>46</td>\n",
       "      <td>60,223</td>\n",
       "      <td>Bruno Fernandes</td>\n",
       "      <td>4-2-3-1</td>\n",
       "      <td>4-2-3-1</td>\n",
       "      <td>Craig Pawson</td>\n",
       "      <td>Match Report</td>\n",
       "      <td>None</td>\n",
       "    </tr>\n",
       "    <tr>\n",
       "      <th>45</th>\n",
       "      <td>2022-04-28</td>\n",
       "      <td>19:45</td>\n",
       "      <td>Premier League</td>\n",
       "      <td>Matchweek 37</td>\n",
       "      <td>Thu</td>\n",
       "      <td>Home</td>\n",
       "      <td>D</td>\n",
       "      <td>1</td>\n",
       "      <td>1</td>\n",
       "      <td>Chelsea</td>\n",
       "      <td>0.5</td>\n",
       "      <td>1.9</td>\n",
       "      <td>36</td>\n",
       "      <td>73,564</td>\n",
       "      <td>Bruno Fernandes</td>\n",
       "      <td>4-2-3-1</td>\n",
       "      <td>3-4-1-2</td>\n",
       "      <td>Mike Dean</td>\n",
       "      <td>Match Report</td>\n",
       "      <td>None</td>\n",
       "    </tr>\n",
       "    <tr>\n",
       "      <th>46</th>\n",
       "      <td>2022-05-02</td>\n",
       "      <td>20:00</td>\n",
       "      <td>Premier League</td>\n",
       "      <td>Matchweek 35</td>\n",
       "      <td>Mon</td>\n",
       "      <td>Home</td>\n",
       "      <td>W</td>\n",
       "      <td>3</td>\n",
       "      <td>0</td>\n",
       "      <td>Brentford</td>\n",
       "      <td>2.0</td>\n",
       "      <td>0.6</td>\n",
       "      <td>63</td>\n",
       "      <td>73,482</td>\n",
       "      <td>Bruno Fernandes</td>\n",
       "      <td>4-2-3-1</td>\n",
       "      <td>5-3-2</td>\n",
       "      <td>Chris Kavanagh</td>\n",
       "      <td>Match Report</td>\n",
       "      <td>None</td>\n",
       "    </tr>\n",
       "    <tr>\n",
       "      <th>47</th>\n",
       "      <td>2022-05-07</td>\n",
       "      <td>17:30</td>\n",
       "      <td>Premier League</td>\n",
       "      <td>Matchweek 36</td>\n",
       "      <td>Sat</td>\n",
       "      <td>Away</td>\n",
       "      <td>L</td>\n",
       "      <td>0</td>\n",
       "      <td>4</td>\n",
       "      <td>Brighton</td>\n",
       "      <td>0.9</td>\n",
       "      <td>2.3</td>\n",
       "      <td>58</td>\n",
       "      <td>31,637</td>\n",
       "      <td>Bruno Fernandes</td>\n",
       "      <td>4-2-3-1</td>\n",
       "      <td>3-4-3</td>\n",
       "      <td>Andy Madley</td>\n",
       "      <td>Match Report</td>\n",
       "      <td>None</td>\n",
       "    </tr>\n",
       "    <tr>\n",
       "      <th>48</th>\n",
       "      <td>2022-05-22</td>\n",
       "      <td>16:00</td>\n",
       "      <td>Premier League</td>\n",
       "      <td>Matchweek 38</td>\n",
       "      <td>Sun</td>\n",
       "      <td>Away</td>\n",
       "      <td>L</td>\n",
       "      <td>0</td>\n",
       "      <td>1</td>\n",
       "      <td>Crystal Palace</td>\n",
       "      <td>0.7</td>\n",
       "      <td>0.6</td>\n",
       "      <td>61</td>\n",
       "      <td>25,434</td>\n",
       "      <td>Harry Maguire</td>\n",
       "      <td>4-2-3-1</td>\n",
       "      <td>4-3-3</td>\n",
       "      <td>Martin Atkinson</td>\n",
       "      <td>Match Report</td>\n",
       "      <td>None</td>\n",
       "    </tr>\n",
       "  </tbody>\n",
       "</table>\n",
       "</div>"
      ],
      "text/plain": [
       "          Date   Time            Comp         Round  Day Venue Result GF GA  \\\n",
       "44  2022-04-23  12:30  Premier League  Matchweek 34  Sat  Away      L  1  3   \n",
       "45  2022-04-28  19:45  Premier League  Matchweek 37  Thu  Home      D  1  1   \n",
       "46  2022-05-02  20:00  Premier League  Matchweek 35  Mon  Home      W  3  0   \n",
       "47  2022-05-07  17:30  Premier League  Matchweek 36  Sat  Away      L  0  4   \n",
       "48  2022-05-22  16:00  Premier League  Matchweek 38  Sun  Away      L  0  1   \n",
       "\n",
       "          Opponent   xG  xGA Poss Attendance          Captain Formation  \\\n",
       "44         Arsenal  1.8  2.3   46     60,223  Bruno Fernandes   4-2-3-1   \n",
       "45         Chelsea  0.5  1.9   36     73,564  Bruno Fernandes   4-2-3-1   \n",
       "46       Brentford  2.0  0.6   63     73,482  Bruno Fernandes   4-2-3-1   \n",
       "47        Brighton  0.9  2.3   58     31,637  Bruno Fernandes   4-2-3-1   \n",
       "48  Crystal Palace  0.7  0.6   61     25,434    Harry Maguire   4-2-3-1   \n",
       "\n",
       "   Opp Formation          Referee  Match Report Notes  \n",
       "44       4-2-3-1     Craig Pawson  Match Report  None  \n",
       "45       3-4-1-2        Mike Dean  Match Report  None  \n",
       "46         5-3-2   Chris Kavanagh  Match Report  None  \n",
       "47         3-4-3      Andy Madley  Match Report  None  \n",
       "48         4-3-3  Martin Atkinson  Match Report  None  "
      ]
     },
     "execution_count": 34,
     "metadata": {},
     "output_type": "execute_result"
    }
   ],
   "source": [
    "mu_table.tail()"
   ]
  },
  {
   "cell_type": "code",
   "execution_count": 35,
   "id": "2e3355dd-1673-4ed3-9719-32e8cfffea7e",
   "metadata": {},
   "outputs": [
    {
     "data": {
      "text/html": [
       "<div>\n",
       "<style scoped>\n",
       "    .dataframe tbody tr th:only-of-type {\n",
       "        vertical-align: middle;\n",
       "    }\n",
       "\n",
       "    .dataframe tbody tr th {\n",
       "        vertical-align: top;\n",
       "    }\n",
       "\n",
       "    .dataframe thead th {\n",
       "        text-align: right;\n",
       "    }\n",
       "</style>\n",
       "<table border=\"1\" class=\"dataframe\">\n",
       "  <thead>\n",
       "    <tr style=\"text-align: right;\">\n",
       "      <th></th>\n",
       "      <th>Date</th>\n",
       "      <th>Time</th>\n",
       "      <th>Comp</th>\n",
       "      <th>Round</th>\n",
       "      <th>Day</th>\n",
       "      <th>Venue</th>\n",
       "      <th>Result</th>\n",
       "      <th>GF</th>\n",
       "      <th>GA</th>\n",
       "      <th>Opponent</th>\n",
       "      <th>...</th>\n",
       "      <th>Dist</th>\n",
       "      <th>FK</th>\n",
       "      <th>PK</th>\n",
       "      <th>PKatt</th>\n",
       "      <th>xG</th>\n",
       "      <th>npxG</th>\n",
       "      <th>npxG/Sh</th>\n",
       "      <th>G-xG</th>\n",
       "      <th>np:G-xG</th>\n",
       "      <th>Match Report</th>\n",
       "    </tr>\n",
       "  </thead>\n",
       "  <tbody>\n",
       "    <tr>\n",
       "      <th>45</th>\n",
       "      <td>2022-04-28</td>\n",
       "      <td>19:45</td>\n",
       "      <td>Premier League</td>\n",
       "      <td>Matchweek 37</td>\n",
       "      <td>Thu</td>\n",
       "      <td>Home</td>\n",
       "      <td>D</td>\n",
       "      <td>1</td>\n",
       "      <td>1</td>\n",
       "      <td>Chelsea</td>\n",
       "      <td>...</td>\n",
       "      <td>15.9</td>\n",
       "      <td>0</td>\n",
       "      <td>0</td>\n",
       "      <td>0</td>\n",
       "      <td>0.5</td>\n",
       "      <td>0.5</td>\n",
       "      <td>0.09</td>\n",
       "      <td>+0.5</td>\n",
       "      <td>+0.5</td>\n",
       "      <td>Match Report</td>\n",
       "    </tr>\n",
       "    <tr>\n",
       "      <th>46</th>\n",
       "      <td>2022-05-02</td>\n",
       "      <td>20:00</td>\n",
       "      <td>Premier League</td>\n",
       "      <td>Matchweek 35</td>\n",
       "      <td>Mon</td>\n",
       "      <td>Home</td>\n",
       "      <td>W</td>\n",
       "      <td>3</td>\n",
       "      <td>0</td>\n",
       "      <td>Brentford</td>\n",
       "      <td>...</td>\n",
       "      <td>20.3</td>\n",
       "      <td>1</td>\n",
       "      <td>1</td>\n",
       "      <td>1</td>\n",
       "      <td>2.0</td>\n",
       "      <td>1.2</td>\n",
       "      <td>0.15</td>\n",
       "      <td>+1.0</td>\n",
       "      <td>+0.8</td>\n",
       "      <td>Match Report</td>\n",
       "    </tr>\n",
       "    <tr>\n",
       "      <th>47</th>\n",
       "      <td>2022-05-07</td>\n",
       "      <td>17:30</td>\n",
       "      <td>Premier League</td>\n",
       "      <td>Matchweek 36</td>\n",
       "      <td>Sat</td>\n",
       "      <td>Away</td>\n",
       "      <td>L</td>\n",
       "      <td>0</td>\n",
       "      <td>4</td>\n",
       "      <td>Brighton</td>\n",
       "      <td>...</td>\n",
       "      <td>19.4</td>\n",
       "      <td>1</td>\n",
       "      <td>0</td>\n",
       "      <td>0</td>\n",
       "      <td>0.9</td>\n",
       "      <td>0.9</td>\n",
       "      <td>0.06</td>\n",
       "      <td>-0.9</td>\n",
       "      <td>-0.9</td>\n",
       "      <td>Match Report</td>\n",
       "    </tr>\n",
       "    <tr>\n",
       "      <th>48</th>\n",
       "      <td>2022-05-22</td>\n",
       "      <td>16:00</td>\n",
       "      <td>Premier League</td>\n",
       "      <td>Matchweek 38</td>\n",
       "      <td>Sun</td>\n",
       "      <td>Away</td>\n",
       "      <td>L</td>\n",
       "      <td>0</td>\n",
       "      <td>1</td>\n",
       "      <td>Crystal Palace</td>\n",
       "      <td>...</td>\n",
       "      <td>19.8</td>\n",
       "      <td>1</td>\n",
       "      <td>0</td>\n",
       "      <td>0</td>\n",
       "      <td>0.7</td>\n",
       "      <td>0.7</td>\n",
       "      <td>0.08</td>\n",
       "      <td>-0.7</td>\n",
       "      <td>-0.7</td>\n",
       "      <td>Match Report</td>\n",
       "    </tr>\n",
       "    <tr>\n",
       "      <th>49</th>\n",
       "      <td>None</td>\n",
       "      <td>None</td>\n",
       "      <td>None</td>\n",
       "      <td>None</td>\n",
       "      <td>None</td>\n",
       "      <td>None</td>\n",
       "      <td>--</td>\n",
       "      <td>None</td>\n",
       "      <td>None</td>\n",
       "      <td>None</td>\n",
       "      <td>...</td>\n",
       "      <td>17.7</td>\n",
       "      <td>24</td>\n",
       "      <td>3</td>\n",
       "      <td>6</td>\n",
       "      <td>None</td>\n",
       "      <td>None</td>\n",
       "      <td>0.11</td>\n",
       "      <td>+70.0</td>\n",
       "      <td>+67.0</td>\n",
       "      <td>None</td>\n",
       "    </tr>\n",
       "  </tbody>\n",
       "</table>\n",
       "<p>5 rows × 26 columns</p>\n",
       "</div>"
      ],
      "text/plain": [
       "          Date   Time            Comp         Round   Day Venue Result    GF  \\\n",
       "45  2022-04-28  19:45  Premier League  Matchweek 37   Thu  Home      D     1   \n",
       "46  2022-05-02  20:00  Premier League  Matchweek 35   Mon  Home      W     3   \n",
       "47  2022-05-07  17:30  Premier League  Matchweek 36   Sat  Away      L     0   \n",
       "48  2022-05-22  16:00  Premier League  Matchweek 38   Sun  Away      L     0   \n",
       "49        None   None            None          None  None  None     --  None   \n",
       "\n",
       "      GA        Opponent  ...  Dist  FK PK PKatt    xG  npxG npxG/Sh   G-xG  \\\n",
       "45     1         Chelsea  ...  15.9   0  0     0   0.5   0.5    0.09   +0.5   \n",
       "46     0       Brentford  ...  20.3   1  1     1   2.0   1.2    0.15   +1.0   \n",
       "47     4        Brighton  ...  19.4   1  0     0   0.9   0.9    0.06   -0.9   \n",
       "48     1  Crystal Palace  ...  19.8   1  0     0   0.7   0.7    0.08   -0.7   \n",
       "49  None            None  ...  17.7  24  3     6  None  None    0.11  +70.0   \n",
       "\n",
       "   np:G-xG  Match Report  \n",
       "45    +0.5  Match Report  \n",
       "46    +0.8  Match Report  \n",
       "47    -0.9  Match Report  \n",
       "48    -0.7  Match Report  \n",
       "49   +67.0          None  \n",
       "\n",
       "[5 rows x 26 columns]"
      ]
     },
     "execution_count": 35,
     "metadata": {},
     "output_type": "execute_result"
    }
   ],
   "source": [
    "shoots_table.tail()"
   ]
  },
  {
   "cell_type": "code",
   "execution_count": 36,
   "id": "cfd0302b-961f-4bc9-ab41-a951be6001a6",
   "metadata": {},
   "outputs": [],
   "source": [
    "shoots_table = shoots_table[:49] # The last row was overall scores in table. I just omitted them"
   ]
  },
  {
   "cell_type": "code",
   "execution_count": 37,
   "id": "b5f941a6-9629-48c4-8901-7f45b30cfaf8",
   "metadata": {},
   "outputs": [],
   "source": [
    "shoots_table.drop([\"xG\", \"Match Report\"], axis=1, inplace=True) # These columns aren't necessary and they aren't at begin to omitt easily via slice so I drop them before concating"
   ]
  },
  {
   "cell_type": "code",
   "execution_count": 38,
   "id": "56e3965c-6fa7-40da-9c9d-fe89a93e6e5e",
   "metadata": {},
   "outputs": [],
   "source": [
    "scraped_stats = pd.concat([mu_table, shoots_table.loc[:, \"Gls\":]], axis=1) # The latter table contains same columns in their begin so I omitted them"
   ]
  },
  {
   "cell_type": "code",
   "execution_count": 39,
   "id": "5bcb102c-9f85-4d45-bca1-cbb8d5b0d998",
   "metadata": {},
   "outputs": [
    {
     "data": {
      "text/html": [
       "<div>\n",
       "<style scoped>\n",
       "    .dataframe tbody tr th:only-of-type {\n",
       "        vertical-align: middle;\n",
       "    }\n",
       "\n",
       "    .dataframe tbody tr th {\n",
       "        vertical-align: top;\n",
       "    }\n",
       "\n",
       "    .dataframe thead th {\n",
       "        text-align: right;\n",
       "    }\n",
       "</style>\n",
       "<table border=\"1\" class=\"dataframe\">\n",
       "  <thead>\n",
       "    <tr style=\"text-align: right;\">\n",
       "      <th></th>\n",
       "      <th>Date</th>\n",
       "      <th>Time</th>\n",
       "      <th>Comp</th>\n",
       "      <th>Round</th>\n",
       "      <th>Day</th>\n",
       "      <th>Venue</th>\n",
       "      <th>Result</th>\n",
       "      <th>GF</th>\n",
       "      <th>GA</th>\n",
       "      <th>Opponent</th>\n",
       "      <th>...</th>\n",
       "      <th>G/Sh</th>\n",
       "      <th>G/SoT</th>\n",
       "      <th>Dist</th>\n",
       "      <th>FK</th>\n",
       "      <th>PK</th>\n",
       "      <th>PKatt</th>\n",
       "      <th>npxG</th>\n",
       "      <th>npxG/Sh</th>\n",
       "      <th>G-xG</th>\n",
       "      <th>np:G-xG</th>\n",
       "    </tr>\n",
       "  </thead>\n",
       "  <tbody>\n",
       "    <tr>\n",
       "      <th>0</th>\n",
       "      <td>2021-08-14</td>\n",
       "      <td>12:30</td>\n",
       "      <td>Premier League</td>\n",
       "      <td>Matchweek 1</td>\n",
       "      <td>Sat</td>\n",
       "      <td>Home</td>\n",
       "      <td>W</td>\n",
       "      <td>5</td>\n",
       "      <td>1</td>\n",
       "      <td>Leeds United</td>\n",
       "      <td>...</td>\n",
       "      <td>0.31</td>\n",
       "      <td>0.63</td>\n",
       "      <td>18.2</td>\n",
       "      <td>0</td>\n",
       "      <td>0</td>\n",
       "      <td>0</td>\n",
       "      <td>1.5</td>\n",
       "      <td>0.09</td>\n",
       "      <td>+3.5</td>\n",
       "      <td>+3.5</td>\n",
       "    </tr>\n",
       "    <tr>\n",
       "      <th>1</th>\n",
       "      <td>2021-08-22</td>\n",
       "      <td>14:00</td>\n",
       "      <td>Premier League</td>\n",
       "      <td>Matchweek 2</td>\n",
       "      <td>Sun</td>\n",
       "      <td>Away</td>\n",
       "      <td>D</td>\n",
       "      <td>1</td>\n",
       "      <td>1</td>\n",
       "      <td>Southampton</td>\n",
       "      <td>...</td>\n",
       "      <td>0.07</td>\n",
       "      <td>0.33</td>\n",
       "      <td>15.1</td>\n",
       "      <td>1</td>\n",
       "      <td>0</td>\n",
       "      <td>0</td>\n",
       "      <td>1.8</td>\n",
       "      <td>0.14</td>\n",
       "      <td>-0.8</td>\n",
       "      <td>-0.8</td>\n",
       "    </tr>\n",
       "    <tr>\n",
       "      <th>2</th>\n",
       "      <td>2021-08-29</td>\n",
       "      <td>16:30</td>\n",
       "      <td>Premier League</td>\n",
       "      <td>Matchweek 3</td>\n",
       "      <td>Sun</td>\n",
       "      <td>Away</td>\n",
       "      <td>W</td>\n",
       "      <td>1</td>\n",
       "      <td>0</td>\n",
       "      <td>Wolves</td>\n",
       "      <td>...</td>\n",
       "      <td>0.10</td>\n",
       "      <td>0.33</td>\n",
       "      <td>18.8</td>\n",
       "      <td>1</td>\n",
       "      <td>0</td>\n",
       "      <td>0</td>\n",
       "      <td>0.6</td>\n",
       "      <td>0.06</td>\n",
       "      <td>+0.4</td>\n",
       "      <td>+0.4</td>\n",
       "    </tr>\n",
       "    <tr>\n",
       "      <th>3</th>\n",
       "      <td>2021-09-11</td>\n",
       "      <td>15:00</td>\n",
       "      <td>Premier League</td>\n",
       "      <td>Matchweek 4</td>\n",
       "      <td>Sat</td>\n",
       "      <td>Home</td>\n",
       "      <td>W</td>\n",
       "      <td>4</td>\n",
       "      <td>1</td>\n",
       "      <td>Newcastle Utd</td>\n",
       "      <td>...</td>\n",
       "      <td>0.19</td>\n",
       "      <td>0.67</td>\n",
       "      <td>20.5</td>\n",
       "      <td>0</td>\n",
       "      <td>0</td>\n",
       "      <td>0</td>\n",
       "      <td>2.5</td>\n",
       "      <td>0.12</td>\n",
       "      <td>+1.5</td>\n",
       "      <td>+1.5</td>\n",
       "    </tr>\n",
       "    <tr>\n",
       "      <th>4</th>\n",
       "      <td>2021-09-14</td>\n",
       "      <td>18:45</td>\n",
       "      <td>Champions Lg</td>\n",
       "      <td>Group stage</td>\n",
       "      <td>Tue</td>\n",
       "      <td>Away</td>\n",
       "      <td>L</td>\n",
       "      <td>1</td>\n",
       "      <td>2</td>\n",
       "      <td>ch</td>\n",
       "      <td>...</td>\n",
       "      <td>0.50</td>\n",
       "      <td>0.50</td>\n",
       "      <td>10.8</td>\n",
       "      <td>0</td>\n",
       "      <td>0</td>\n",
       "      <td>0</td>\n",
       "      <td>0.5</td>\n",
       "      <td>0.26</td>\n",
       "      <td>+0.5</td>\n",
       "      <td>+0.5</td>\n",
       "    </tr>\n",
       "  </tbody>\n",
       "</table>\n",
       "<p>5 rows × 34 columns</p>\n",
       "</div>"
      ],
      "text/plain": [
       "         Date   Time            Comp        Round  Day Venue Result GF GA  \\\n",
       "0  2021-08-14  12:30  Premier League  Matchweek 1  Sat  Home      W  5  1   \n",
       "1  2021-08-22  14:00  Premier League  Matchweek 2  Sun  Away      D  1  1   \n",
       "2  2021-08-29  16:30  Premier League  Matchweek 3  Sun  Away      W  1  0   \n",
       "3  2021-09-11  15:00  Premier League  Matchweek 4  Sat  Home      W  4  1   \n",
       "4  2021-09-14  18:45    Champions Lg  Group stage  Tue  Away      L  1  2   \n",
       "\n",
       "        Opponent  ...  G/Sh G/SoT  Dist FK PK PKatt npxG npxG/Sh  G-xG np:G-xG  \n",
       "0   Leeds United  ...  0.31  0.63  18.2  0  0     0  1.5    0.09  +3.5    +3.5  \n",
       "1    Southampton  ...  0.07  0.33  15.1  1  0     0  1.8    0.14  -0.8    -0.8  \n",
       "2         Wolves  ...  0.10  0.33  18.8  1  0     0  0.6    0.06  +0.4    +0.4  \n",
       "3  Newcastle Utd  ...  0.19  0.67  20.5  0  0     0  2.5    0.12  +1.5    +1.5  \n",
       "4             ch  ...  0.50  0.50  10.8  0  0     0  0.5    0.26  +0.5    +0.5  \n",
       "\n",
       "[5 rows x 34 columns]"
      ]
     },
     "execution_count": 39,
     "metadata": {},
     "output_type": "execute_result"
    }
   ],
   "source": [
    "scraped_stats.head()"
   ]
  },
  {
   "cell_type": "markdown",
   "id": "fcede81c-4e20-4497-ad1f-2d0e54311637",
   "metadata": {},
   "source": [
    "### Scraping Data for Multiple Seasons and Teams"
   ]
  },
  {
   "cell_type": "code",
   "execution_count": 40,
   "id": "5630bf3c-84b8-471e-b404-27240698f8ad",
   "metadata": {},
   "outputs": [],
   "source": [
    "import time # for delaying the scraping avoiding the quick downloading of page thus overloading the website and blocking myself"
   ]
  },
  {
   "cell_type": "code",
   "execution_count": 41,
   "id": "d209bf3e-cb54-46f0-b96a-b022a90322de",
   "metadata": {},
   "outputs": [],
   "source": [
    "# generating the links of seasons from 2021-22 to 2023-24 descending\n",
    "\n",
    "season_links = [f\"https://fbref.com/en/comps/9/20{i:02d}-20{i+1:02d}/20{i:02d}-20{i+1:02d}-Premier-League-Stats\" for i in range(23, 21, -1)]"
   ]
  },
  {
   "cell_type": "code",
   "execution_count": 42,
   "id": "23f60093-641d-45a3-ada8-d96c00591702",
   "metadata": {},
   "outputs": [
    {
     "data": {
      "text/plain": [
       "['https://fbref.com/en/comps/9/2023-2024/2023-2024-Premier-League-Stats',\n",
       " 'https://fbref.com/en/comps/9/2022-2023/2022-2023-Premier-League-Stats']"
      ]
     },
     "execution_count": 42,
     "metadata": {},
     "output_type": "execute_result"
    }
   ],
   "source": [
    "season_links"
   ]
  },
  {
   "cell_type": "code",
   "execution_count": 43,
   "id": "21b874b7-bab1-402f-8b10-ae4f3aa0a2b7",
   "metadata": {},
   "outputs": [],
   "source": [
    "dataframes = [] # each DataFrames in list is a match log for one team in one season "
   ]
  },
  {
   "cell_type": "code",
   "execution_count": 44,
   "id": "e866dc66-acd7-4d14-9c00-2f184dfdbe75",
   "metadata": {},
   "outputs": [
    {
     "name": "stdout",
     "output_type": "stream",
     "text": [
      "Start a season \n",
      "Start a team\n",
      "Start a team\n",
      "Start a team\n",
      "Start a team\n",
      "Start a team\n",
      "Start a team\n",
      "Start a team\n"
     ]
    },
    {
     "ename": "AttributeError",
     "evalue": "'NoneType' object has no attribute 'get'",
     "output_type": "error",
     "traceback": [
      "\u001b[0;31m---------------------------------------------------------------------------\u001b[0m",
      "\u001b[0;31mAttributeError\u001b[0m                            Traceback (most recent call last)",
      "Cell \u001b[0;32mIn[44], line 35\u001b[0m\n\u001b[1;32m     31\u001b[0m columns, data \u001b[38;5;241m=\u001b[39m extracting_stats(club_stats)\n\u001b[1;32m     33\u001b[0m club_dataframe \u001b[38;5;241m=\u001b[39m pd\u001b[38;5;241m.\u001b[39mDataFrame(data\u001b[38;5;241m=\u001b[39mdata, columns\u001b[38;5;241m=\u001b[39mcolumns)\n\u001b[0;32m---> 35\u001b[0m shoots_link \u001b[38;5;241m=\u001b[39m domain \u001b[38;5;241m+\u001b[39m \u001b[43msoup\u001b[49m\u001b[38;5;241;43m.\u001b[39;49m\u001b[43mfind\u001b[49m\u001b[43m(\u001b[49m\u001b[38;5;124;43m\"\u001b[39;49m\u001b[38;5;124;43ma\u001b[39;49m\u001b[38;5;124;43m\"\u001b[39;49m\u001b[43m,\u001b[49m\u001b[43m \u001b[49m\u001b[43mhref\u001b[49m\u001b[38;5;241;43m=\u001b[39;49m\u001b[43mre\u001b[49m\u001b[38;5;241;43m.\u001b[39;49m\u001b[43mcompile\u001b[49m\u001b[43m(\u001b[49m\u001b[38;5;124;43m\"\u001b[39;49m\u001b[38;5;124;43m/matchlogs/all_comps/shooting/\u001b[39;49m\u001b[38;5;124;43m\"\u001b[39;49m\u001b[43m)\u001b[49m\u001b[43m)\u001b[49m\u001b[38;5;241;43m.\u001b[39;49m\u001b[43mget\u001b[49m(\u001b[38;5;124m\"\u001b[39m\u001b[38;5;124mhref\u001b[39m\u001b[38;5;124m\"\u001b[39m)\n\u001b[1;32m     37\u001b[0m shoots_page \u001b[38;5;241m=\u001b[39m requests\u001b[38;5;241m.\u001b[39mget(shoots_link)\n\u001b[1;32m     38\u001b[0m soup \u001b[38;5;241m=\u001b[39m BeautifulSoup(shoots_page\u001b[38;5;241m.\u001b[39mcontent, \u001b[38;5;124m\"\u001b[39m\u001b[38;5;124mhtml.parser\u001b[39m\u001b[38;5;124m\"\u001b[39m)\n",
      "\u001b[0;31mAttributeError\u001b[0m: 'NoneType' object has no attribute 'get'"
     ]
    }
   ],
   "source": [
    "##### Scraping over multiple seasons\n",
    "\n",
    "for url in season_links[:1]:\n",
    "    \n",
    "    print(\"Start a season \")\n",
    "    \n",
    "    page = requests.get(url)\n",
    "    \n",
    "    soup = BeautifulSoup(page.content, \"html.parser\")\n",
    "\n",
    "    results_table = soup.find(\"table\")\n",
    "\n",
    "    team_urls = []\n",
    "\n",
    "    for url in results_table.find_all(\"a\"):\n",
    "        path = url.get(\"href\") \n",
    "    \n",
    "        if \"squads\" in path: # this contains the url of club stats\n",
    "            team_urls.append(domain + path)\n",
    "\n",
    "    for url in team_urls:\n",
    "\n",
    "        print(\"Start a team\")\n",
    "        time.sleep(0.5)\n",
    "        \n",
    "        page = requests.get(url)\n",
    "        soup = BeautifulSoup(page.content, \"html.parser\")\n",
    "\n",
    "        club_stats = soup.find(id=\"matchlogs_for\")\n",
    "\n",
    "        columns, data = extracting_stats(club_stats)\n",
    "\n",
    "        club_dataframe = pd.DataFrame(data=data, columns=columns)\n",
    "\n",
    "        shoots_link = domain + soup.find(\"a\", href=re.compile(\"/matchlogs/all_comps/shooting/\")).get(\"href\")\n",
    "\n",
    "        shoots_page = requests.get(shoots_link)\n",
    "        soup = BeautifulSoup(shoots_page.content, \"html.parser\")\n",
    "        time.sleep(0.5)\n",
    "\n",
    "        shoots_stat_table = soup.find(id=\"matchlogs_for\")\n",
    "\n",
    "        columns, data = extracting_shooting_stats(shoots_stat_table)\n",
    "\n",
    "        shoots_dataframe = pd.DataFrame(data=data, columns=columns)\n",
    "        shoots_dataframe = shoots_dataframe[:49]\n",
    "        #shoots_dataframe.drop([\"xG\", \"Match Report\"], axis=1, inplace=True)\n",
    "\n",
    "        combined_dataframe = pd.concat([club_dataframe, shoots_dataframe])\n",
    "\n",
    "        dataframes.append(combined_dataframe)"
   ]
  },
  {
   "cell_type": "code",
   "execution_count": null,
   "id": "cddf9a9a-1e88-4b64-8f29-87b462c6f801",
   "metadata": {},
   "outputs": [],
   "source": []
  }
 ],
 "metadata": {
  "kernelspec": {
   "display_name": "Portfolio Project - Web Scraping from EPL",
   "language": "python",
   "name": "web_scraping_epl"
  },
  "language_info": {
   "codemirror_mode": {
    "name": "ipython",
    "version": 3
   },
   "file_extension": ".py",
   "mimetype": "text/x-python",
   "name": "python",
   "nbconvert_exporter": "python",
   "pygments_lexer": "ipython3",
   "version": "3.12.3"
  }
 },
 "nbformat": 4,
 "nbformat_minor": 5
}
