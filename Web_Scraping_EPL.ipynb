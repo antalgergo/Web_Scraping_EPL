{
 "cells": [
  {
   "cell_type": "markdown",
   "id": "aa7c9d31-0619-41ec-984d-d669ed36f01a",
   "metadata": {},
   "source": [
    "# Portfolio Project - Web Scraping Football Matches From The EPL in Python"
   ]
  },
  {
   "cell_type": "code",
   "execution_count": null,
   "id": "07430680-af21-476b-8aa5-c60de2166e4c",
   "metadata": {},
   "outputs": [],
   "source": []
  }
 ],
 "metadata": {
  "kernelspec": {
   "display_name": "Portfolio Project - Web Scraping from EPL",
   "language": "python",
   "name": "web_scraping_epl"
  },
  "language_info": {
   "codemirror_mode": {
    "name": "ipython",
    "version": 3
   },
   "file_extension": ".py",
   "mimetype": "text/x-python",
   "name": "python",
   "nbconvert_exporter": "python",
   "pygments_lexer": "ipython3",
   "version": "3.12.3"
  }
 },
 "nbformat": 4,
 "nbformat_minor": 5
}
