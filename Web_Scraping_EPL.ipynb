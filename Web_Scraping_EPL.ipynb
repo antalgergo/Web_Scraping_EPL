{
 "cells": [
  {
   "cell_type": "markdown",
   "id": "aa7c9d31-0619-41ec-984d-d669ed36f01a",
   "metadata": {},
   "source": [
    "# Portfolio Project - Web Scraping Football Matches From The EPL in Python"
   ]
  },
  {
   "cell_type": "markdown",
   "id": "94f5e2fa-6817-412b-9ba0-ee040ec79499",
   "metadata": {},
   "source": [
    "### Introduction"
   ]
  },
  {
   "cell_type": "markdown",
   "id": "e9bc7027-3bc3-46aa-a968-5fbe7f32501d",
   "metadata": {},
   "source": [
    "This project is a first part of a Machine Learning project where I will predict the winner of each football match on the English Premier League (EPL).\n",
    "In this project the main goal is gathering data for a cleaned pandas dataframe via web scraping."
   ]
  },
  {
   "cell_type": "markdown",
   "id": "7149d580-4834-41d8-9ab8-014075a67d81",
   "metadata": {},
   "source": [
    "### Downloading and Exploring the EPL Stats Page"
   ]
  },
  {
   "cell_type": "code",
   "execution_count": 3,
   "id": "c19dd87b-3155-4873-9e38-971ec9feda91",
   "metadata": {},
   "outputs": [],
   "source": [
    "import requests"
   ]
  },
  {
   "cell_type": "code",
   "execution_count": 4,
   "id": "a7291be4-acfd-4771-bdb2-a1640047a331",
   "metadata": {},
   "outputs": [],
   "source": [
    "url = \"https://fbref.com/en/comps/9/2021-2022/2021-2022-Premier-League-Stats\""
   ]
  },
  {
   "cell_type": "code",
   "execution_count": 5,
   "id": "97c96612-b3aa-424c-9686-3aa4da179127",
   "metadata": {},
   "outputs": [],
   "source": [
    "page = requests.get(url)"
   ]
  },
  {
   "cell_type": "code",
   "execution_count": 7,
   "id": "4b90b3aa-c73e-42c7-bf80-94bbffa96d4c",
   "metadata": {},
   "outputs": [
    {
     "data": {
      "text/plain": [
       "200"
      ]
     },
     "execution_count": 7,
     "metadata": {},
     "output_type": "execute_result"
    }
   ],
   "source": [
    "page.status_code # if the code is 200 then OK"
   ]
  },
  {
   "cell_type": "markdown",
   "id": "84d9e672-75be-41c7-9975-ce1073209b1c",
   "metadata": {},
   "source": [
    "Inspecting the page in web browser I can see the `id` of the table-tag which contains the teams and theirs results is `results2021-202291_overall`. Furthermore the HTML Tag which contains the Team name and their URL to details is `team`."
   ]
  },
  {
   "cell_type": "markdown",
   "id": "c9a0cec6-77e8-4462-912f-f11d6c3d2ac2",
   "metadata": {},
   "source": [
    "### Parsing HTML Links"
   ]
  },
  {
   "cell_type": "code",
   "execution_count": 14,
   "id": "95ad9893-d2b7-4486-b2ce-896179c5f22d",
   "metadata": {},
   "outputs": [],
   "source": [
    "from bs4 import BeautifulSoup"
   ]
  },
  {
   "cell_type": "code",
   "execution_count": 15,
   "id": "b581ec2a-e305-4670-b10a-efd81123f20e",
   "metadata": {},
   "outputs": [],
   "source": [
    "soup = BeautifulSoup(page.content, \"html.parser\")"
   ]
  },
  {
   "cell_type": "code",
   "execution_count": 21,
   "id": "cdd2e103-c84d-4879-90de-584dc06f53fb",
   "metadata": {},
   "outputs": [],
   "source": [
    "teams_table = soup.find(id=\"results2021-202291_overall\")"
   ]
  },
  {
   "cell_type": "code",
   "execution_count": 38,
   "id": "3f31912a-933a-44a5-9516-1d00503fcf41",
   "metadata": {},
   "outputs": [],
   "source": [
    "links = teams_table.find_all(\"a\")"
   ]
  },
  {
   "cell_type": "code",
   "execution_count": 52,
   "id": "01fdf917-cac5-4c93-a1de-8cdae86d6951",
   "metadata": {},
   "outputs": [],
   "source": [
    "\"\"\"\n",
    "Example links:\n",
    "\n",
    "Link: /en/squads/19538871/2021-2022/Manchester-United-Stats, Text: Manchester Utd    - if contains word 'squads' then it refer to club\n",
    "Link: /en/players/dea698d9/Cristiano-Ronaldo, Text: Cristiano Ronaldo\n",
    "\"\"\"\n",
    "\n",
    "club_paths = []\n",
    "\n",
    "for link in links:\n",
    "    path = link.get(\"href\")\n",
    "    \n",
    "    if (\"squads\") in path:\n",
    "        club_paths.append(path)"
   ]
  },
  {
   "cell_type": "code",
   "execution_count": 55,
   "id": "971d8eb8-8e2c-4af9-a91f-e72144c306f7",
   "metadata": {},
   "outputs": [
    {
     "data": {
      "text/plain": [
       "['/en/squads/b8fd03ef/2021-2022/Manchester-City-Stats',\n",
       " '/en/squads/822bd0ba/2021-2022/Liverpool-Stats',\n",
       " '/en/squads/cff3d9bb/2021-2022/Chelsea-Stats',\n",
       " '/en/squads/361ca564/2021-2022/Tottenham-Hotspur-Stats',\n",
       " '/en/squads/18bb7c10/2021-2022/Arsenal-Stats',\n",
       " '/en/squads/19538871/2021-2022/Manchester-United-Stats',\n",
       " '/en/squads/7c21e445/2021-2022/West-Ham-United-Stats',\n",
       " '/en/squads/a2d435b3/2021-2022/Leicester-City-Stats',\n",
       " '/en/squads/d07537b9/2021-2022/Brighton-and-Hove-Albion-Stats',\n",
       " '/en/squads/8cec06e1/2021-2022/Wolverhampton-Wanderers-Stats',\n",
       " '/en/squads/b2b47a98/2021-2022/Newcastle-United-Stats',\n",
       " '/en/squads/47c64c55/2021-2022/Crystal-Palace-Stats',\n",
       " '/en/squads/cd051869/2021-2022/Brentford-Stats',\n",
       " '/en/squads/8602292d/2021-2022/Aston-Villa-Stats',\n",
       " '/en/squads/33c895d4/2021-2022/Southampton-Stats',\n",
       " '/en/squads/d3fd31cc/2021-2022/Everton-Stats',\n",
       " '/en/squads/5bfb9659/2021-2022/Leeds-United-Stats',\n",
       " '/en/squads/943e8050/2021-2022/Burnley-Stats',\n",
       " '/en/squads/2abfe087/2021-2022/Watford-Stats',\n",
       " '/en/squads/1c781004/2021-2022/Norwich-City-Stats']"
      ]
     },
     "execution_count": 55,
     "metadata": {},
     "output_type": "execute_result"
    }
   ],
   "source": [
    "club_paths"
   ]
  },
  {
   "cell_type": "code",
   "execution_count": 56,
   "id": "83456084-4d53-4817-9296-aa20a49dd609",
   "metadata": {},
   "outputs": [],
   "source": [
    "club_urls = [url + path for path in club_paths] # Creating a list of full URLs (domain url + paths of each club)"
   ]
  },
  {
   "cell_type": "code",
   "execution_count": 57,
   "id": "fc5e08b6-e601-4083-a31d-25881cf5e005",
   "metadata": {},
   "outputs": [
    {
     "data": {
      "text/plain": [
       "['https://fbref.com/en/comps/9/2021-2022/2021-2022-Premier-League-Stats/en/squads/b8fd03ef/2021-2022/Manchester-City-Stats',\n",
       " 'https://fbref.com/en/comps/9/2021-2022/2021-2022-Premier-League-Stats/en/squads/822bd0ba/2021-2022/Liverpool-Stats',\n",
       " 'https://fbref.com/en/comps/9/2021-2022/2021-2022-Premier-League-Stats/en/squads/cff3d9bb/2021-2022/Chelsea-Stats',\n",
       " 'https://fbref.com/en/comps/9/2021-2022/2021-2022-Premier-League-Stats/en/squads/361ca564/2021-2022/Tottenham-Hotspur-Stats',\n",
       " 'https://fbref.com/en/comps/9/2021-2022/2021-2022-Premier-League-Stats/en/squads/18bb7c10/2021-2022/Arsenal-Stats',\n",
       " 'https://fbref.com/en/comps/9/2021-2022/2021-2022-Premier-League-Stats/en/squads/19538871/2021-2022/Manchester-United-Stats',\n",
       " 'https://fbref.com/en/comps/9/2021-2022/2021-2022-Premier-League-Stats/en/squads/7c21e445/2021-2022/West-Ham-United-Stats',\n",
       " 'https://fbref.com/en/comps/9/2021-2022/2021-2022-Premier-League-Stats/en/squads/a2d435b3/2021-2022/Leicester-City-Stats',\n",
       " 'https://fbref.com/en/comps/9/2021-2022/2021-2022-Premier-League-Stats/en/squads/d07537b9/2021-2022/Brighton-and-Hove-Albion-Stats',\n",
       " 'https://fbref.com/en/comps/9/2021-2022/2021-2022-Premier-League-Stats/en/squads/8cec06e1/2021-2022/Wolverhampton-Wanderers-Stats',\n",
       " 'https://fbref.com/en/comps/9/2021-2022/2021-2022-Premier-League-Stats/en/squads/b2b47a98/2021-2022/Newcastle-United-Stats',\n",
       " 'https://fbref.com/en/comps/9/2021-2022/2021-2022-Premier-League-Stats/en/squads/47c64c55/2021-2022/Crystal-Palace-Stats',\n",
       " 'https://fbref.com/en/comps/9/2021-2022/2021-2022-Premier-League-Stats/en/squads/cd051869/2021-2022/Brentford-Stats',\n",
       " 'https://fbref.com/en/comps/9/2021-2022/2021-2022-Premier-League-Stats/en/squads/8602292d/2021-2022/Aston-Villa-Stats',\n",
       " 'https://fbref.com/en/comps/9/2021-2022/2021-2022-Premier-League-Stats/en/squads/33c895d4/2021-2022/Southampton-Stats',\n",
       " 'https://fbref.com/en/comps/9/2021-2022/2021-2022-Premier-League-Stats/en/squads/d3fd31cc/2021-2022/Everton-Stats',\n",
       " 'https://fbref.com/en/comps/9/2021-2022/2021-2022-Premier-League-Stats/en/squads/5bfb9659/2021-2022/Leeds-United-Stats',\n",
       " 'https://fbref.com/en/comps/9/2021-2022/2021-2022-Premier-League-Stats/en/squads/943e8050/2021-2022/Burnley-Stats',\n",
       " 'https://fbref.com/en/comps/9/2021-2022/2021-2022-Premier-League-Stats/en/squads/2abfe087/2021-2022/Watford-Stats',\n",
       " 'https://fbref.com/en/comps/9/2021-2022/2021-2022-Premier-League-Stats/en/squads/1c781004/2021-2022/Norwich-City-Stats']"
      ]
     },
     "execution_count": 57,
     "metadata": {},
     "output_type": "execute_result"
    }
   ],
   "source": [
    "club_urls"
   ]
  },
  {
   "cell_type": "code",
   "execution_count": null,
   "id": "7ba8e283-d096-47ba-b8c2-bb2025721eb8",
   "metadata": {},
   "outputs": [],
   "source": []
  }
 ],
 "metadata": {
  "kernelspec": {
   "display_name": "Portfolio Project - Web Scraping from EPL",
   "language": "python",
   "name": "web_scraping_epl"
  },
  "language_info": {
   "codemirror_mode": {
    "name": "ipython",
    "version": 3
   },
   "file_extension": ".py",
   "mimetype": "text/x-python",
   "name": "python",
   "nbconvert_exporter": "python",
   "pygments_lexer": "ipython3",
   "version": "3.12.3"
  }
 },
 "nbformat": 4,
 "nbformat_minor": 5
}
