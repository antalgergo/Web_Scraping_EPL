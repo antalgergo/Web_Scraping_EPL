{
 "cells": [
  {
   "cell_type": "markdown",
   "id": "aa7c9d31-0619-41ec-984d-d669ed36f01a",
   "metadata": {},
   "source": [
    "# Portfolio Project - Web Scraping Football Matches From The EPL in Python"
   ]
  },
  {
   "cell_type": "markdown",
   "id": "94f5e2fa-6817-412b-9ba0-ee040ec79499",
   "metadata": {},
   "source": [
    "### Introduction"
   ]
  },
  {
   "cell_type": "markdown",
   "id": "e9bc7027-3bc3-46aa-a968-5fbe7f32501d",
   "metadata": {},
   "source": [
    "This project is a first part of a Machine Learning project where I will predict the winner of each football match on the English Premier League (EPL).\n",
    "In this project the main goal is gathering data for a cleaned pandas dataframe via web scraping."
   ]
  },
  {
   "cell_type": "markdown",
   "id": "7149d580-4834-41d8-9ab8-014075a67d81",
   "metadata": {},
   "source": [
    "### Downloading and Exploring the EPL Stats Page"
   ]
  },
  {
   "cell_type": "code",
   "execution_count": 1,
   "id": "c19dd87b-3155-4873-9e38-971ec9feda91",
   "metadata": {},
   "outputs": [],
   "source": [
    "import requests"
   ]
  },
  {
   "cell_type": "code",
   "execution_count": 2,
   "id": "a7291be4-acfd-4771-bdb2-a1640047a331",
   "metadata": {},
   "outputs": [],
   "source": [
    "url = \"https://fbref.com/en/comps/9/2021-2022/2021-2022-Premier-League-Stats\""
   ]
  },
  {
   "cell_type": "code",
   "execution_count": 3,
   "id": "97c96612-b3aa-424c-9686-3aa4da179127",
   "metadata": {},
   "outputs": [],
   "source": [
    "page = requests.get(url)"
   ]
  },
  {
   "cell_type": "code",
   "execution_count": 4,
   "id": "4b90b3aa-c73e-42c7-bf80-94bbffa96d4c",
   "metadata": {},
   "outputs": [
    {
     "data": {
      "text/plain": [
       "200"
      ]
     },
     "execution_count": 4,
     "metadata": {},
     "output_type": "execute_result"
    }
   ],
   "source": [
    "page.status_code # if the code is 200 then OK"
   ]
  },
  {
   "cell_type": "markdown",
   "id": "84d9e672-75be-41c7-9975-ce1073209b1c",
   "metadata": {},
   "source": [
    "Inspecting the page in web browser I can see the `id` of the table-tag which contains the teams and theirs results is `results2021-202291_overall`. Furthermore the HTML Tag which contains the Team name and their URL to details is `team`."
   ]
  },
  {
   "cell_type": "markdown",
   "id": "c9a0cec6-77e8-4462-912f-f11d6c3d2ac2",
   "metadata": {},
   "source": [
    "### Parsing HTML Links"
   ]
  },
  {
   "cell_type": "code",
   "execution_count": 5,
   "id": "95ad9893-d2b7-4486-b2ce-896179c5f22d",
   "metadata": {},
   "outputs": [],
   "source": [
    "from bs4 import BeautifulSoup"
   ]
  },
  {
   "cell_type": "code",
   "execution_count": 6,
   "id": "b581ec2a-e305-4670-b10a-efd81123f20e",
   "metadata": {},
   "outputs": [],
   "source": [
    "soup = BeautifulSoup(page.content, \"html.parser\")"
   ]
  },
  {
   "cell_type": "code",
   "execution_count": 7,
   "id": "cdd2e103-c84d-4879-90de-584dc06f53fb",
   "metadata": {},
   "outputs": [],
   "source": [
    "teams_table = soup.find(id=\"results2021-202291_overall\")"
   ]
  },
  {
   "cell_type": "code",
   "execution_count": 8,
   "id": "3f31912a-933a-44a5-9516-1d00503fcf41",
   "metadata": {},
   "outputs": [],
   "source": [
    "links = teams_table.find_all(\"a\")"
   ]
  },
  {
   "cell_type": "code",
   "execution_count": 9,
   "id": "01fdf917-cac5-4c93-a1de-8cdae86d6951",
   "metadata": {},
   "outputs": [],
   "source": [
    "\"\"\"\n",
    "Example links:\n",
    "\n",
    "Link: /en/squads/19538871/2021-2022/Manchester-United-Stats, Text: Manchester Utd    - if contains word 'squads' then it refer to club\n",
    "Link: /en/players/dea698d9/Cristiano-Ronaldo, Text: Cristiano Ronaldo\n",
    "\"\"\"\n",
    "\n",
    "club_paths = []\n",
    "\n",
    "for link in links:\n",
    "    path = link.get(\"href\")\n",
    "    \n",
    "    if (\"squads\") in path:\n",
    "        club_paths.append(path)"
   ]
  },
  {
   "cell_type": "code",
   "execution_count": 10,
   "id": "971d8eb8-8e2c-4af9-a91f-e72144c306f7",
   "metadata": {},
   "outputs": [
    {
     "data": {
      "text/plain": [
       "['/en/squads/b8fd03ef/2021-2022/Manchester-City-Stats',\n",
       " '/en/squads/822bd0ba/2021-2022/Liverpool-Stats',\n",
       " '/en/squads/cff3d9bb/2021-2022/Chelsea-Stats',\n",
       " '/en/squads/361ca564/2021-2022/Tottenham-Hotspur-Stats',\n",
       " '/en/squads/18bb7c10/2021-2022/Arsenal-Stats',\n",
       " '/en/squads/19538871/2021-2022/Manchester-United-Stats',\n",
       " '/en/squads/7c21e445/2021-2022/West-Ham-United-Stats',\n",
       " '/en/squads/a2d435b3/2021-2022/Leicester-City-Stats',\n",
       " '/en/squads/d07537b9/2021-2022/Brighton-and-Hove-Albion-Stats',\n",
       " '/en/squads/8cec06e1/2021-2022/Wolverhampton-Wanderers-Stats',\n",
       " '/en/squads/b2b47a98/2021-2022/Newcastle-United-Stats',\n",
       " '/en/squads/47c64c55/2021-2022/Crystal-Palace-Stats',\n",
       " '/en/squads/cd051869/2021-2022/Brentford-Stats',\n",
       " '/en/squads/8602292d/2021-2022/Aston-Villa-Stats',\n",
       " '/en/squads/33c895d4/2021-2022/Southampton-Stats',\n",
       " '/en/squads/d3fd31cc/2021-2022/Everton-Stats',\n",
       " '/en/squads/5bfb9659/2021-2022/Leeds-United-Stats',\n",
       " '/en/squads/943e8050/2021-2022/Burnley-Stats',\n",
       " '/en/squads/2abfe087/2021-2022/Watford-Stats',\n",
       " '/en/squads/1c781004/2021-2022/Norwich-City-Stats']"
      ]
     },
     "execution_count": 10,
     "metadata": {},
     "output_type": "execute_result"
    }
   ],
   "source": [
    "club_paths"
   ]
  },
  {
   "cell_type": "code",
   "execution_count": 30,
   "id": "83456084-4d53-4817-9296-aa20a49dd609",
   "metadata": {},
   "outputs": [],
   "source": [
    "club_urls = [\"https://fbref.com\" + path for path in club_paths] # Creating a list of full URLs (domain url + paths of each club)"
   ]
  },
  {
   "cell_type": "code",
   "execution_count": 31,
   "id": "fc5e08b6-e601-4083-a31d-25881cf5e005",
   "metadata": {},
   "outputs": [
    {
     "data": {
      "text/plain": [
       "['https://fbref.com/en/squads/b8fd03ef/2021-2022/Manchester-City-Stats',\n",
       " 'https://fbref.com/en/squads/822bd0ba/2021-2022/Liverpool-Stats',\n",
       " 'https://fbref.com/en/squads/cff3d9bb/2021-2022/Chelsea-Stats',\n",
       " 'https://fbref.com/en/squads/361ca564/2021-2022/Tottenham-Hotspur-Stats',\n",
       " 'https://fbref.com/en/squads/18bb7c10/2021-2022/Arsenal-Stats',\n",
       " 'https://fbref.com/en/squads/19538871/2021-2022/Manchester-United-Stats',\n",
       " 'https://fbref.com/en/squads/7c21e445/2021-2022/West-Ham-United-Stats',\n",
       " 'https://fbref.com/en/squads/a2d435b3/2021-2022/Leicester-City-Stats',\n",
       " 'https://fbref.com/en/squads/d07537b9/2021-2022/Brighton-and-Hove-Albion-Stats',\n",
       " 'https://fbref.com/en/squads/8cec06e1/2021-2022/Wolverhampton-Wanderers-Stats',\n",
       " 'https://fbref.com/en/squads/b2b47a98/2021-2022/Newcastle-United-Stats',\n",
       " 'https://fbref.com/en/squads/47c64c55/2021-2022/Crystal-Palace-Stats',\n",
       " 'https://fbref.com/en/squads/cd051869/2021-2022/Brentford-Stats',\n",
       " 'https://fbref.com/en/squads/8602292d/2021-2022/Aston-Villa-Stats',\n",
       " 'https://fbref.com/en/squads/33c895d4/2021-2022/Southampton-Stats',\n",
       " 'https://fbref.com/en/squads/d3fd31cc/2021-2022/Everton-Stats',\n",
       " 'https://fbref.com/en/squads/5bfb9659/2021-2022/Leeds-United-Stats',\n",
       " 'https://fbref.com/en/squads/943e8050/2021-2022/Burnley-Stats',\n",
       " 'https://fbref.com/en/squads/2abfe087/2021-2022/Watford-Stats',\n",
       " 'https://fbref.com/en/squads/1c781004/2021-2022/Norwich-City-Stats']"
      ]
     },
     "execution_count": 31,
     "metadata": {},
     "output_type": "execute_result"
    }
   ],
   "source": [
    "club_urls"
   ]
  },
  {
   "cell_type": "markdown",
   "id": "ad02b04d-3592-45b1-a626-bd68985259af",
   "metadata": {},
   "source": [
    "### Extracting Match Stats"
   ]
  },
  {
   "cell_type": "code",
   "execution_count": 35,
   "id": "b8ad23b1-116f-4284-b7f1-92c1e4aa52b4",
   "metadata": {},
   "outputs": [],
   "source": [
    "page = requests.get(club_urls[5]) # Get the stats of Manchester United ( My favourite club :) )"
   ]
  },
  {
   "cell_type": "code",
   "execution_count": 36,
   "id": "a08e85fe-db07-40d5-89a5-62be638ab22b",
   "metadata": {},
   "outputs": [
    {
     "data": {
      "text/plain": [
       "200"
      ]
     },
     "execution_count": 36,
     "metadata": {},
     "output_type": "execute_result"
    }
   ],
   "source": [
    "page.status_code"
   ]
  },
  {
   "cell_type": "code",
   "execution_count": 37,
   "id": "85df7ce4-6d70-4fe6-a81b-ec17e1bca829",
   "metadata": {},
   "outputs": [],
   "source": [
    "soup = BeautifulSoup(page.content, 'html.parser')"
   ]
  },
  {
   "cell_type": "code",
   "execution_count": 40,
   "id": "42c72f45-41c5-4ef0-a378-2bcf56bf73db",
   "metadata": {},
   "outputs": [],
   "source": [
    "mu_stats = soup.find(id=\"matchlogs_for\") # ID of table that contains the \"Scores & Fixtures\" is \"match_for_logs\""
   ]
  },
  {
   "cell_type": "code",
   "execution_count": 75,
   "id": "069c14ae-3ebe-415d-96b3-44690192b058",
   "metadata": {},
   "outputs": [],
   "source": [
    "# Extracting stats from table called \"Scores & Fixtures\" \n",
    "\n",
    "columns = [] # It will be the column names of the DataFrame.\n",
    "\n",
    "for name in mu_stats.find_all(\"tr\")[0]:\n",
    "    if name.string != \" \": # It stores a space between elements. I will just ommit them.\n",
    "        columns.append(name.string)\n",
    "\n",
    "match_stats = []\n",
    "\n",
    "for match in mu_stats.find_all(\"tr\")[1:]: # Ommiting the header (first \"tr\" tag)\n",
    "    stats = []\n",
    "    \n",
    "    for stat in match:\n",
    "        if stat.find(\"span\"): # The time data is inner a \"span\" tag within \"td\" tag\n",
    "            stats.append(stat.find(\"span\").text)\n",
    "        else:\n",
    "            stats.append(stat.string) # else I added the value os \"td\" tag to list\n",
    "\n",
    "    match_stats.append(stats)"
   ]
  },
  {
   "cell_type": "code",
   "execution_count": 76,
   "id": "85d0ab81-66bb-43f5-bff0-e5e47505f9b9",
   "metadata": {},
   "outputs": [],
   "source": [
    "import pandas as pd"
   ]
  },
  {
   "cell_type": "code",
   "execution_count": 77,
   "id": "549c6d5e-42a3-47ee-a9cd-16e510c44c7c",
   "metadata": {},
   "outputs": [],
   "source": [
    "mu_table = pd.DataFrame(columns=columns, data=match_stats)"
   ]
  },
  {
   "cell_type": "code",
   "execution_count": 78,
   "id": "1ec0f398-3fc2-4796-9cdc-6c2e13f6c67c",
   "metadata": {},
   "outputs": [
    {
     "data": {
      "text/html": [
       "<div>\n",
       "<style scoped>\n",
       "    .dataframe tbody tr th:only-of-type {\n",
       "        vertical-align: middle;\n",
       "    }\n",
       "\n",
       "    .dataframe tbody tr th {\n",
       "        vertical-align: top;\n",
       "    }\n",
       "\n",
       "    .dataframe thead th {\n",
       "        text-align: right;\n",
       "    }\n",
       "</style>\n",
       "<table border=\"1\" class=\"dataframe\">\n",
       "  <thead>\n",
       "    <tr style=\"text-align: right;\">\n",
       "      <th></th>\n",
       "      <th>Date</th>\n",
       "      <th>Time</th>\n",
       "      <th>Comp</th>\n",
       "      <th>Round</th>\n",
       "      <th>Day</th>\n",
       "      <th>Venue</th>\n",
       "      <th>Result</th>\n",
       "      <th>GF</th>\n",
       "      <th>GA</th>\n",
       "      <th>Opponent</th>\n",
       "      <th>xG</th>\n",
       "      <th>xGA</th>\n",
       "      <th>Poss</th>\n",
       "      <th>Attendance</th>\n",
       "      <th>Captain</th>\n",
       "      <th>Formation</th>\n",
       "      <th>Opp Formation</th>\n",
       "      <th>Referee</th>\n",
       "      <th>Match Report</th>\n",
       "      <th>Notes</th>\n",
       "    </tr>\n",
       "  </thead>\n",
       "  <tbody>\n",
       "    <tr>\n",
       "      <th>0</th>\n",
       "      <td>2021-08-14</td>\n",
       "      <td>12:30</td>\n",
       "      <td>Premier League</td>\n",
       "      <td>Matchweek 1</td>\n",
       "      <td>Sat</td>\n",
       "      <td>Home</td>\n",
       "      <td>W</td>\n",
       "      <td>5</td>\n",
       "      <td>1</td>\n",
       "      <td>Leeds United</td>\n",
       "      <td>1.5</td>\n",
       "      <td>0.5</td>\n",
       "      <td>49</td>\n",
       "      <td>72,732</td>\n",
       "      <td>Harry Maguire</td>\n",
       "      <td>4-2-3-1</td>\n",
       "      <td>4-1-4-1</td>\n",
       "      <td>Paul Tierney</td>\n",
       "      <td>Match Report</td>\n",
       "      <td>None</td>\n",
       "    </tr>\n",
       "    <tr>\n",
       "      <th>1</th>\n",
       "      <td>2021-08-22</td>\n",
       "      <td>14:00</td>\n",
       "      <td>Premier League</td>\n",
       "      <td>Matchweek 2</td>\n",
       "      <td>Sun</td>\n",
       "      <td>Away</td>\n",
       "      <td>D</td>\n",
       "      <td>1</td>\n",
       "      <td>1</td>\n",
       "      <td>Southampton</td>\n",
       "      <td>1.8</td>\n",
       "      <td>0.7</td>\n",
       "      <td>63</td>\n",
       "      <td>32,000</td>\n",
       "      <td>Harry Maguire</td>\n",
       "      <td>4-2-3-1</td>\n",
       "      <td>4-4-2</td>\n",
       "      <td>Craig Pawson</td>\n",
       "      <td>Match Report</td>\n",
       "      <td>None</td>\n",
       "    </tr>\n",
       "    <tr>\n",
       "      <th>2</th>\n",
       "      <td>2021-08-29</td>\n",
       "      <td>16:30</td>\n",
       "      <td>Premier League</td>\n",
       "      <td>Matchweek 3</td>\n",
       "      <td>Sun</td>\n",
       "      <td>Away</td>\n",
       "      <td>W</td>\n",
       "      <td>1</td>\n",
       "      <td>0</td>\n",
       "      <td>Wolves</td>\n",
       "      <td>0.6</td>\n",
       "      <td>2.1</td>\n",
       "      <td>56</td>\n",
       "      <td>30,621</td>\n",
       "      <td>Harry Maguire</td>\n",
       "      <td>4-2-3-1</td>\n",
       "      <td>3-4-3</td>\n",
       "      <td>Mike Dean</td>\n",
       "      <td>Match Report</td>\n",
       "      <td>None</td>\n",
       "    </tr>\n",
       "    <tr>\n",
       "      <th>3</th>\n",
       "      <td>2021-09-11</td>\n",
       "      <td>15:00</td>\n",
       "      <td>Premier League</td>\n",
       "      <td>Matchweek 4</td>\n",
       "      <td>Sat</td>\n",
       "      <td>Home</td>\n",
       "      <td>W</td>\n",
       "      <td>4</td>\n",
       "      <td>1</td>\n",
       "      <td>Newcastle Utd</td>\n",
       "      <td>2.5</td>\n",
       "      <td>0.4</td>\n",
       "      <td>63</td>\n",
       "      <td>72,732</td>\n",
       "      <td>Harry Maguire</td>\n",
       "      <td>4-2-3-1</td>\n",
       "      <td>5-4-1</td>\n",
       "      <td>Anthony Taylor</td>\n",
       "      <td>Match Report</td>\n",
       "      <td>None</td>\n",
       "    </tr>\n",
       "    <tr>\n",
       "      <th>4</th>\n",
       "      <td>2021-09-14</td>\n",
       "      <td>18:45</td>\n",
       "      <td>Champions Lg</td>\n",
       "      <td>Group stage</td>\n",
       "      <td>Tue</td>\n",
       "      <td>Away</td>\n",
       "      <td>L</td>\n",
       "      <td>1</td>\n",
       "      <td>2</td>\n",
       "      <td>ch</td>\n",
       "      <td>0.5</td>\n",
       "      <td>1.4</td>\n",
       "      <td>46</td>\n",
       "      <td>31,120</td>\n",
       "      <td>Harry Maguire</td>\n",
       "      <td>4-2-3-1</td>\n",
       "      <td>4-2-3-1</td>\n",
       "      <td>François Letexier</td>\n",
       "      <td>Match Report</td>\n",
       "      <td>None</td>\n",
       "    </tr>\n",
       "  </tbody>\n",
       "</table>\n",
       "</div>"
      ],
      "text/plain": [
       "         Date   Time            Comp        Round  Day Venue Result GF GA  \\\n",
       "0  2021-08-14  12:30  Premier League  Matchweek 1  Sat  Home      W  5  1   \n",
       "1  2021-08-22  14:00  Premier League  Matchweek 2  Sun  Away      D  1  1   \n",
       "2  2021-08-29  16:30  Premier League  Matchweek 3  Sun  Away      W  1  0   \n",
       "3  2021-09-11  15:00  Premier League  Matchweek 4  Sat  Home      W  4  1   \n",
       "4  2021-09-14  18:45    Champions Lg  Group stage  Tue  Away      L  1  2   \n",
       "\n",
       "        Opponent   xG  xGA Poss Attendance        Captain Formation  \\\n",
       "0   Leeds United  1.5  0.5   49     72,732  Harry Maguire   4-2-3-1   \n",
       "1    Southampton  1.8  0.7   63     32,000  Harry Maguire   4-2-3-1   \n",
       "2         Wolves  0.6  2.1   56     30,621  Harry Maguire   4-2-3-1   \n",
       "3  Newcastle Utd  2.5  0.4   63     72,732  Harry Maguire   4-2-3-1   \n",
       "4             ch  0.5  1.4   46     31,120  Harry Maguire   4-2-3-1   \n",
       "\n",
       "  Opp Formation            Referee  Match Report Notes  \n",
       "0       4-1-4-1       Paul Tierney  Match Report  None  \n",
       "1         4-4-2       Craig Pawson  Match Report  None  \n",
       "2         3-4-3          Mike Dean  Match Report  None  \n",
       "3         5-4-1     Anthony Taylor  Match Report  None  \n",
       "4       4-2-3-1  François Letexier  Match Report  None  "
      ]
     },
     "execution_count": 78,
     "metadata": {},
     "output_type": "execute_result"
    }
   ],
   "source": [
    "mu_table.head()"
   ]
  },
  {
   "cell_type": "code",
   "execution_count": null,
   "id": "37e73ef4-1b8a-4f54-985b-01261ad7d844",
   "metadata": {},
   "outputs": [],
   "source": []
  }
 ],
 "metadata": {
  "kernelspec": {
   "display_name": "Portfolio Project - Web Scraping from EPL",
   "language": "python",
   "name": "web_scraping_epl"
  },
  "language_info": {
   "codemirror_mode": {
    "name": "ipython",
    "version": 3
   },
   "file_extension": ".py",
   "mimetype": "text/x-python",
   "name": "python",
   "nbconvert_exporter": "python",
   "pygments_lexer": "ipython3",
   "version": "3.12.3"
  }
 },
 "nbformat": 4,
 "nbformat_minor": 5
}
