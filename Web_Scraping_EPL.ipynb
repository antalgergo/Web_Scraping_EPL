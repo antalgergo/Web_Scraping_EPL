{
 "cells": [
  {
   "cell_type": "markdown",
   "id": "aa7c9d31-0619-41ec-984d-d669ed36f01a",
   "metadata": {},
   "source": [
    "# Portfolio Project - Web Scraping Football Matches From The EPL in Python"
   ]
  },
  {
   "cell_type": "markdown",
   "id": "94f5e2fa-6817-412b-9ba0-ee040ec79499",
   "metadata": {},
   "source": [
    "### Introduction"
   ]
  },
  {
   "cell_type": "markdown",
   "id": "e9bc7027-3bc3-46aa-a968-5fbe7f32501d",
   "metadata": {},
   "source": [
    "This project is a first part of a Machine Learning project where I will predict the winner of each football match on the English Premier League (EPL).\n",
    "In this project the main goal is gathering data for a cleaned pandas dataframe via web scraping."
   ]
  },
  {
   "cell_type": "markdown",
   "id": "7149d580-4834-41d8-9ab8-014075a67d81",
   "metadata": {},
   "source": [
    "### Downloading and Exploring the EPL Stats Page"
   ]
  },
  {
   "cell_type": "code",
   "execution_count": 3,
   "id": "c19dd87b-3155-4873-9e38-971ec9feda91",
   "metadata": {},
   "outputs": [],
   "source": [
    "import requests"
   ]
  },
  {
   "cell_type": "code",
   "execution_count": 4,
   "id": "a7291be4-acfd-4771-bdb2-a1640047a331",
   "metadata": {},
   "outputs": [],
   "source": [
    "url = \"https://fbref.com/en/comps/9/2021-2022/2021-2022-Premier-League-Stats\""
   ]
  },
  {
   "cell_type": "code",
   "execution_count": 5,
   "id": "97c96612-b3aa-424c-9686-3aa4da179127",
   "metadata": {},
   "outputs": [],
   "source": [
    "page = requests.get(url)"
   ]
  },
  {
   "cell_type": "code",
   "execution_count": 7,
   "id": "4b90b3aa-c73e-42c7-bf80-94bbffa96d4c",
   "metadata": {},
   "outputs": [
    {
     "data": {
      "text/plain": [
       "200"
      ]
     },
     "execution_count": 7,
     "metadata": {},
     "output_type": "execute_result"
    }
   ],
   "source": [
    "page.status_code # if the code is 200 then OK"
   ]
  },
  {
   "cell_type": "markdown",
   "id": "84d9e672-75be-41c7-9975-ce1073209b1c",
   "metadata": {},
   "source": [
    "Inspecting the page in web browser I can see the `id` of the table-tag which contains the teams and theirs results is `results2021-202291_overall`"
   ]
  },
  {
   "cell_type": "code",
   "execution_count": null,
   "id": "a27a212d-79f7-4fe3-a23b-693289a4eadb",
   "metadata": {},
   "outputs": [],
   "source": []
  }
 ],
 "metadata": {
  "kernelspec": {
   "display_name": "Portfolio Project - Web Scraping from EPL",
   "language": "python",
   "name": "web_scraping_epl"
  },
  "language_info": {
   "codemirror_mode": {
    "name": "ipython",
    "version": 3
   },
   "file_extension": ".py",
   "mimetype": "text/x-python",
   "name": "python",
   "nbconvert_exporter": "python",
   "pygments_lexer": "ipython3",
   "version": "3.12.3"
  }
 },
 "nbformat": 4,
 "nbformat_minor": 5
}
